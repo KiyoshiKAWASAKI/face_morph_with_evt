{
 "cells": [
  {
   "cell_type": "code",
   "execution_count": 1,
   "id": "3f1e245b",
   "metadata": {},
   "outputs": [],
   "source": [
    "import warnings\n",
    "warnings.filterwarnings('ignore')\n",
    "import csv\n",
    "import sqlite3\n",
    "import pandas as pd\n",
    "import numpy as np\n",
    "import seaborn as sn\n",
    "import matplotlib.pyplot as plt\n",
    "import sys\n",
    "import os\n",
    "import shutil\n",
    "import glob"
   ]
  },
  {
   "cell_type": "markdown",
   "id": "77b345e1",
   "metadata": {},
   "source": [
    "# V4 (90 surveys) - Data plot 06/08/2024. Updated with long tail 02/24/2025"
   ]
  },
  {
   "cell_type": "markdown",
   "id": "7a808700",
   "metadata": {},
   "source": [
    "## 1. Path to data"
   ]
  },
  {
   "cell_type": "code",
   "execution_count": 2,
   "id": "6065b908",
   "metadata": {},
   "outputs": [],
   "source": [
    "uniform_folder = \"/Users/kiyoshi/Desktop/jov_everything/face_morph_v4_5_sets_results/raw_data/baseline/\"\n",
    "enrich_folder = \"/Users/kiyoshi/Desktop/jov_everything/face_morph_v4_5_sets_results/raw_data/enrich_tail/\"\n",
    "long_tail_folder = \"/Users/kiyoshi/Desktop/jov_everything/face_morph_v4_5_sets_results/raw_data/long_tail/\"\n",
    "\n",
    "surveys = [\"survey_1\", \"survey_2\", \"survey_3\",\"survey_4\",\"survey_5\",]"
   ]
  },
  {
   "cell_type": "markdown",
   "id": "09408469",
   "metadata": {},
   "source": [
    "## 2. Process db into csv"
   ]
  },
  {
   "cell_type": "code",
   "execution_count": 3,
   "id": "24745803",
   "metadata": {},
   "outputs": [],
   "source": [
    "def convert_csv(db_path, output_file):\n",
    "    \"\"\"\n",
    "    Convert the user response from db into csv file\n",
    "\n",
    "    :param db_path: Database for user response\n",
    "\n",
    "    :return:\n",
    "    \"\"\"\n",
    "    conn = sqlite3.connect(db_path)\n",
    "    cursor = conn.cursor()\n",
    "    cursor.execute(\"select * from Responses;\")\n",
    "\n",
    "    with open(output_file, \"w\", newline='') as csv_file:\n",
    "        csv_writer = csv.writer(csv_file)\n",
    "\n",
    "        # write headers\n",
    "        csv_writer.writerow([i[0] for i in cursor.description])\n",
    "\n",
    "        # write content\n",
    "        csv_writer.writerows(cursor)"
   ]
  },
  {
   "cell_type": "code",
   "execution_count": 8,
   "id": "8a263b81",
   "metadata": {},
   "outputs": [],
   "source": [
    "csv_save_dir = \"/Users/kiyoshi/Desktop/jov_everything/face_morph_v4_5_sets_results/raw_data/csv_files/\""
   ]
  },
  {
   "cell_type": "code",
   "execution_count": 10,
   "id": "3ebbb35e",
   "metadata": {},
   "outputs": [],
   "source": [
    "for one_survey in surveys:\n",
    "    \n",
    "#     convert_csv(os.path.join(uniform_folder, one_survey + \"_baseline.db\"),\n",
    "#                os.path.join(csv_save_dir, one_survey + \"_baseline.csv\"))\n",
    "    \n",
    "#     convert_csv(os.path.join(enrich_folder, one_survey + \"_enrich.db\"),\n",
    "#                os.path.join(csv_save_dir, one_survey + \"_enrich.csv\"))\n",
    "    \n",
    "    convert_csv(os.path.join(long_tail_folder, one_survey + \"_long.db\"),\n",
    "               os.path.join(csv_save_dir, one_survey + \"_long.csv\"))"
   ]
  },
  {
   "cell_type": "code",
   "execution_count": 11,
   "id": "8e866bf9",
   "metadata": {},
   "outputs": [],
   "source": [
    "def combine_csv(csv_dir, save_dir, data_type):\n",
    "    allFiles = glob.glob(csv_dir + \"/*_\" + data_type + \".csv\")\n",
    "    allFiles.sort()\n",
    "    \n",
    "    with open(save_dir + \"/\" + data_type + '.csv', 'wb') as outfile:\n",
    "        for i, fname in enumerate(allFiles):\n",
    "            with open(fname, 'rb') as infile:\n",
    "                if i != 0:\n",
    "                    infile.readline()  # Throw away header on all but first file\n",
    "                # Block copy rest of file from input to output without parsing\n",
    "                shutil.copyfileobj(infile, outfile)\n",
    "                print(fname + \" has been imported.\")"
   ]
  },
  {
   "cell_type": "code",
   "execution_count": 12,
   "id": "4e590ce5",
   "metadata": {},
   "outputs": [
    {
     "name": "stdout",
     "output_type": "stream",
     "text": [
      "/Users/kiyoshi/Desktop/jov_everything/face_morph_v4_5_sets_results/raw_data/csv_files/survey_1_long.csv has been imported.\n",
      "/Users/kiyoshi/Desktop/jov_everything/face_morph_v4_5_sets_results/raw_data/csv_files/survey_2_long.csv has been imported.\n",
      "/Users/kiyoshi/Desktop/jov_everything/face_morph_v4_5_sets_results/raw_data/csv_files/survey_3_long.csv has been imported.\n",
      "/Users/kiyoshi/Desktop/jov_everything/face_morph_v4_5_sets_results/raw_data/csv_files/survey_4_long.csv has been imported.\n",
      "/Users/kiyoshi/Desktop/jov_everything/face_morph_v4_5_sets_results/raw_data/csv_files/survey_5_long.csv has been imported.\n"
     ]
    }
   ],
   "source": [
    "# combine_csv(csv_dir=csv_save_dir, \n",
    "#             save_dir=csv_save_dir, \n",
    "#             data_type=\"baseline\")\n",
    "\n",
    "# combine_csv(csv_dir=csv_save_dir, \n",
    "#             save_dir=csv_save_dir, \n",
    "#             data_type=\"enrich\")\n",
    "\n",
    "combine_csv(csv_dir=csv_save_dir, \n",
    "            save_dir=csv_save_dir, \n",
    "            data_type=\"long\")"
   ]
  },
  {
   "cell_type": "markdown",
   "id": "9dd8c4b9",
   "metadata": {},
   "source": [
    "## 3. Plot overall curve"
   ]
  },
  {
   "cell_type": "code",
   "execution_count": 16,
   "id": "2bd84107",
   "metadata": {},
   "outputs": [],
   "source": [
    "uniform_csv = \"/Users/kiyoshi/Desktop/jov_everything/face_morph_v4_5_sets_results/raw_data/csv_files/baseline.csv\"\n",
    "enrich_csv = \"/Users/kiyoshi/Desktop/jov_everything/face_morph_v4_5_sets_results/raw_data/csv_files/enrich.csv\"\n",
    "long_csv = \"/Users/kiyoshi/Desktop/jov_everything/face_morph_v4_5_sets_results/raw_data/csv_files/long.csv\""
   ]
  },
  {
   "cell_type": "code",
   "execution_count": 17,
   "id": "0e47d847",
   "metadata": {},
   "outputs": [],
   "source": [
    "uniform_data = pd.read_csv(uniform_csv)\n",
    "enrich_data = pd.read_csv(enrich_csv)\n",
    "long_data = pd.read_csv(long_csv)"
   ]
  },
  {
   "cell_type": "code",
   "execution_count": 20,
   "id": "44f5b998",
   "metadata": {},
   "outputs": [],
   "source": [
    "def add_img_name_column(df):\n",
    "    \"\"\"\n",
    "    Add a row of test image names in original dataframe\n",
    "    \"\"\"\n",
    "    # find test img index\n",
    "    # Add a column for test img names\n",
    "    df['test_img_name'] = df.test_img.str. \\\n",
    "                            split('/').str[-1].str.split(\"_\").str[-1].str.split(\".\").str[0]\n",
    "\n",
    "    # Only take the columns we need\n",
    "    df = df[[\"worker_response\", \"test_img_name\", \"ResponseTime\"]]\n",
    "    df[\"test_img_name\"] = df[\"test_img_name\"].astype(int)\n",
    "    df = df.sort_values(by=[\"test_img_name\"])\n",
    "    df[\"ResponseTime\"] = df[\"ResponseTime\"].astype(int)\n",
    "    df[\"ResponseTime\"] = df[\"ResponseTime\"]/1000\n",
    "    \n",
    "    return df"
   ]
  },
  {
   "cell_type": "code",
   "execution_count": 23,
   "id": "9b367758",
   "metadata": {},
   "outputs": [],
   "source": [
    "uniform_results = add_img_name_column(uniform_data)\n",
    "enrich_results = add_img_name_column(enrich_data)\n",
    "long_results = add_img_name_column(long_data)"
   ]
  },
  {
   "cell_type": "code",
   "execution_count": 24,
   "id": "d48474cb",
   "metadata": {},
   "outputs": [],
   "source": [
    "uniform_results_path = \"/Users/kiyoshi/Desktop/jov_everything/face_morph_v4_5_sets_results/raw_data/csv_files/uniform_results.csv\"\n",
    "enrich_results_path = \"/Users/kiyoshi/Desktop/jov_everything/face_morph_v4_5_sets_results/raw_data/csv_files/enrich_results.csv\"\n",
    "long_results_path = \"/Users/kiyoshi/Desktop/jov_everything/face_morph_v4_5_sets_results/raw_data/csv_files/long_results.csv\"\n",
    "\n",
    "uniform_results.to_csv(uniform_results_path)\n",
    "enrich_results.to_csv(enrich_results_path)\n",
    "long_results.to_csv(long_results_path)"
   ]
  },
  {
   "cell_type": "code",
   "execution_count": 27,
   "id": "62712ebd",
   "metadata": {},
   "outputs": [],
   "source": [
    "def generate_per_frame_response(response_csv_path):\n",
    "    data = pd.read_csv(response_csv_path)\n",
    "    \n",
    "    # Take the columns we need\n",
    "    data_selected = data[[\"worker_response\", \"test_img_name\", \"ResponseTime\"]]\n",
    "    data_selected.columns = [\"worker_response\", \"frame_index\", \"ResponseTime\"]\n",
    "    \n",
    "    data_final = data_selected\n",
    "\n",
    "    \n",
    "    # Get the avg RT for each frame\n",
    "    rt_frame = data_final[[\"frame_index\", \"ResponseTime\"]]\n",
    "    rt_frame = rt_frame.groupby([\"frame_index\"]).sum()\n",
    "    #print(rt_frame)\n",
    "    \n",
    "    # Group by frame index: \n",
    "    # response: get counts\n",
    "    grouped = data_final.groupby(['frame_index','worker_response']).worker_response. \\\n",
    "                            agg('count').to_frame('count').reset_index()\n",
    "    #print(grouped.head(10))\n",
    "    \n",
    "    # responses: get total counts\n",
    "    grouped_for_counts = grouped[['frame_index','count']]\n",
    "    total_counts = grouped_for_counts.groupby(['frame_index']).sum()\n",
    "    #print(total_counts)\n",
    "    \n",
    "    # responses: select the counts where worker response is 2\n",
    "    worker_response_selected = grouped[grouped['worker_response'] == 2]\n",
    "    worker_response_selected.columns = [\"frame_index\", \"worker_response\", \"person_b_counts\"]\n",
    "    worker_response_selected = worker_response_selected[[\"frame_index\", \"worker_response\", \"person_b_counts\"]]\n",
    "    \n",
    "    person_b_counts = worker_response_selected[[\"frame_index\", \"person_b_counts\"]]\n",
    "    #print(worker_response_selected)\n",
    "    \n",
    "    # responses: merge two frames\n",
    "    result_df = pd.merge(total_counts, person_b_counts, on=\"frame_index\")\n",
    "    result_df = pd.merge(result_df, rt_frame, on=\"frame_index\")\n",
    "    #print(result_df)\n",
    "    \n",
    "    # response: convert to probability of choosing person B as the answer\n",
    "    result_df[\"prob_b\"] = result_df[\"person_b_counts\"]/result_df[\"count\"]\n",
    "    result_df[\"avg_rt\"] = result_df[\"ResponseTime\"]/(result_df[\"count\"]*1000)\n",
    "    \n",
    "    return result_df"
   ]
  },
  {
   "cell_type": "code",
   "execution_count": 28,
   "id": "0a1abd6b",
   "metadata": {},
   "outputs": [],
   "source": [
    "uniform_per_frame = generate_per_frame_response(uniform_results_path)\n",
    "enrich_per_frame = generate_per_frame_response(enrich_results_path)\n",
    "long_per_frame = generate_per_frame_response(long_results_path)"
   ]
  },
  {
   "cell_type": "code",
   "execution_count": 29,
   "id": "1dfd4038",
   "metadata": {},
   "outputs": [],
   "source": [
    "def post_process_results(df):\n",
    "    \"\"\"\n",
    "    \"\"\"\n",
    "    \n",
    "    df = df[[\"frame_index\", \"prob_b\"]]\n",
    "    df = df.set_index('frame_index')\n",
    "    \n",
    "    return df"
   ]
  },
  {
   "cell_type": "code",
   "execution_count": 31,
   "id": "beacd467",
   "metadata": {},
   "outputs": [],
   "source": [
    "uniform_final = post_process_results(uniform_per_frame)\n",
    "enrich_final = post_process_results(enrich_per_frame)\n",
    "long_final = post_process_results(long_per_frame)"
   ]
  },
  {
   "cell_type": "code",
   "execution_count": 32,
   "id": "b72e7fab",
   "metadata": {},
   "outputs": [],
   "source": [
    "uniform_final.columns = [\"uniform\"]\n",
    "enrich_final.columns = [\"enrich\"]\n",
    "long_final.columns = [\"long\"]\n",
    "\n",
    "all_data = uniform_final.join(enrich_final).join(long_final)"
   ]
  },
  {
   "cell_type": "code",
   "execution_count": 33,
   "id": "30bbd3e1",
   "metadata": {},
   "outputs": [
    {
     "data": {
      "text/html": [
       "<div>\n",
       "<style scoped>\n",
       "    .dataframe tbody tr th:only-of-type {\n",
       "        vertical-align: middle;\n",
       "    }\n",
       "\n",
       "    .dataframe tbody tr th {\n",
       "        vertical-align: top;\n",
       "    }\n",
       "\n",
       "    .dataframe thead th {\n",
       "        text-align: right;\n",
       "    }\n",
       "</style>\n",
       "<table border=\"1\" class=\"dataframe\">\n",
       "  <thead>\n",
       "    <tr style=\"text-align: right;\">\n",
       "      <th></th>\n",
       "      <th>uniform</th>\n",
       "      <th>enrich</th>\n",
       "      <th>long</th>\n",
       "    </tr>\n",
       "    <tr>\n",
       "      <th>frame_index</th>\n",
       "      <th></th>\n",
       "      <th></th>\n",
       "      <th></th>\n",
       "    </tr>\n",
       "  </thead>\n",
       "  <tbody>\n",
       "    <tr>\n",
       "      <th>36</th>\n",
       "      <td>0.074786</td>\n",
       "      <td>0.119048</td>\n",
       "      <td>0.065728</td>\n",
       "    </tr>\n",
       "    <tr>\n",
       "      <th>38</th>\n",
       "      <td>0.057692</td>\n",
       "      <td>0.062907</td>\n",
       "      <td>0.018824</td>\n",
       "    </tr>\n",
       "    <tr>\n",
       "      <th>40</th>\n",
       "      <td>0.066239</td>\n",
       "      <td>0.075922</td>\n",
       "      <td>0.009412</td>\n",
       "    </tr>\n",
       "    <tr>\n",
       "      <th>42</th>\n",
       "      <td>0.104701</td>\n",
       "      <td>0.097614</td>\n",
       "      <td>0.011765</td>\n",
       "    </tr>\n",
       "    <tr>\n",
       "      <th>45</th>\n",
       "      <td>0.123932</td>\n",
       "      <td>0.132321</td>\n",
       "      <td>0.023585</td>\n",
       "    </tr>\n",
       "    <tr>\n",
       "      <th>47</th>\n",
       "      <td>0.188034</td>\n",
       "      <td>0.201735</td>\n",
       "      <td>0.030660</td>\n",
       "    </tr>\n",
       "    <tr>\n",
       "      <th>50</th>\n",
       "      <td>0.258547</td>\n",
       "      <td>0.288503</td>\n",
       "      <td>0.042453</td>\n",
       "    </tr>\n",
       "    <tr>\n",
       "      <th>52</th>\n",
       "      <td>0.388889</td>\n",
       "      <td>0.392625</td>\n",
       "      <td>0.058962</td>\n",
       "    </tr>\n",
       "    <tr>\n",
       "      <th>55</th>\n",
       "      <td>0.485043</td>\n",
       "      <td>0.496746</td>\n",
       "      <td>0.096698</td>\n",
       "    </tr>\n",
       "    <tr>\n",
       "      <th>57</th>\n",
       "      <td>0.602564</td>\n",
       "      <td>0.613883</td>\n",
       "      <td>0.120283</td>\n",
       "    </tr>\n",
       "    <tr>\n",
       "      <th>60</th>\n",
       "      <td>0.690171</td>\n",
       "      <td>0.722343</td>\n",
       "      <td>0.186321</td>\n",
       "    </tr>\n",
       "    <tr>\n",
       "      <th>62</th>\n",
       "      <td>0.782051</td>\n",
       "      <td>0.800434</td>\n",
       "      <td>0.216981</td>\n",
       "    </tr>\n",
       "    <tr>\n",
       "      <th>65</th>\n",
       "      <td>0.856838</td>\n",
       "      <td>0.872017</td>\n",
       "      <td>0.278302</td>\n",
       "    </tr>\n",
       "    <tr>\n",
       "      <th>67</th>\n",
       "      <td>0.884615</td>\n",
       "      <td>0.924078</td>\n",
       "      <td>0.334906</td>\n",
       "    </tr>\n",
       "    <tr>\n",
       "      <th>70</th>\n",
       "      <td>0.899573</td>\n",
       "      <td>0.952278</td>\n",
       "      <td>0.429245</td>\n",
       "    </tr>\n",
       "    <tr>\n",
       "      <th>72</th>\n",
       "      <td>0.931624</td>\n",
       "      <td>0.952278</td>\n",
       "      <td>0.504717</td>\n",
       "    </tr>\n",
       "    <tr>\n",
       "      <th>74</th>\n",
       "      <td>0.938034</td>\n",
       "      <td>0.958696</td>\n",
       "      <td>0.582547</td>\n",
       "    </tr>\n",
       "    <tr>\n",
       "      <th>76</th>\n",
       "      <td>0.955128</td>\n",
       "      <td>0.976087</td>\n",
       "      <td>0.627962</td>\n",
       "    </tr>\n",
       "    <tr>\n",
       "      <th>78</th>\n",
       "      <td>0.950855</td>\n",
       "      <td>0.973913</td>\n",
       "      <td>0.715640</td>\n",
       "    </tr>\n",
       "    <tr>\n",
       "      <th>80</th>\n",
       "      <td>0.972222</td>\n",
       "      <td>0.980435</td>\n",
       "      <td>0.753555</td>\n",
       "    </tr>\n",
       "  </tbody>\n",
       "</table>\n",
       "</div>"
      ],
      "text/plain": [
       "              uniform    enrich      long\n",
       "frame_index                              \n",
       "36           0.074786  0.119048  0.065728\n",
       "38           0.057692  0.062907  0.018824\n",
       "40           0.066239  0.075922  0.009412\n",
       "42           0.104701  0.097614  0.011765\n",
       "45           0.123932  0.132321  0.023585\n",
       "47           0.188034  0.201735  0.030660\n",
       "50           0.258547  0.288503  0.042453\n",
       "52           0.388889  0.392625  0.058962\n",
       "55           0.485043  0.496746  0.096698\n",
       "57           0.602564  0.613883  0.120283\n",
       "60           0.690171  0.722343  0.186321\n",
       "62           0.782051  0.800434  0.216981\n",
       "65           0.856838  0.872017  0.278302\n",
       "67           0.884615  0.924078  0.334906\n",
       "70           0.899573  0.952278  0.429245\n",
       "72           0.931624  0.952278  0.504717\n",
       "74           0.938034  0.958696  0.582547\n",
       "76           0.955128  0.976087  0.627962\n",
       "78           0.950855  0.973913  0.715640\n",
       "80           0.972222  0.980435  0.753555"
      ]
     },
     "execution_count": 33,
     "metadata": {},
     "output_type": "execute_result"
    }
   ],
   "source": [
    "all_data"
   ]
  },
  {
   "cell_type": "code",
   "execution_count": 34,
   "id": "c3f3f040",
   "metadata": {},
   "outputs": [
    {
     "data": {
      "text/plain": [
       "<AxesSubplot:xlabel='frame_index'>"
      ]
     },
     "execution_count": 34,
     "metadata": {},
     "output_type": "execute_result"
    },
    {
     "data": {
      "image/png": "[encoded data removed]",
      "text/plain": [
       "<Figure size 432x288 with 1 Axes>"
      ]
     },
     "metadata": {
      "needs_background": "light"
     },
     "output_type": "display_data"
    }
   ],
   "source": [
    "all_data.plot()"
   ]
  },
  {
   "cell_type": "code",
   "execution_count": 37,
   "id": "a2486486",
   "metadata": {},
   "outputs": [
    {
     "name": "stdout",
     "output_type": "stream",
     "text": [
      "[0.06572769953051644, 0.018823529411764704, 0.009411764705882352, 0.011764705882352941, 0.02358490566037736, 0.030660377358490566, 0.04245283018867924, 0.0589622641509434, 0.09669811320754718, 0.12028301886792453, 0.18632075471698112, 0.2169811320754717, 0.2783018867924528, 0.33490566037735847, 0.42924528301886794, 0.5047169811320755, 0.5825471698113207, 0.6279620853080569, 0.7156398104265402, 0.7535545023696683]\n"
     ]
    }
   ],
   "source": [
    "print(list(all_data[\"long\"]))"
   ]
  },
  {
   "cell_type": "code",
   "execution_count": 24,
   "id": "d2709657",
   "metadata": {},
   "outputs": [
    {
     "data": {
      "text/plain": [
       "<AxesSubplot:xlabel='frame_index'>"
      ]
     },
     "execution_count": 24,
     "metadata": {},
     "output_type": "execute_result"
    },
    {
     "data": {
      "image/png": "[encoded data removed]",
      "text/plain": [
       "<Figure size 432x288 with 1 Axes>"
      ]
     },
     "metadata": {
      "needs_background": "light"
     },
     "output_type": "display_data"
    }
   ],
   "source": [
    "all_data.plot.bar()"
   ]
  },
  {
   "cell_type": "markdown",
   "id": "023434e5",
   "metadata": {},
   "source": [
    "## Plot for each survey"
   ]
  },
  {
   "cell_type": "code",
   "execution_count": null,
   "id": "7afe3255",
   "metadata": {},
   "outputs": [],
   "source": []
  },
  {
   "cell_type": "code",
   "execution_count": null,
   "id": "5f5cfb41",
   "metadata": {},
   "outputs": [],
   "source": []
  },
  {
   "cell_type": "code",
   "execution_count": null,
   "id": "6ac857ec",
   "metadata": {},
   "outputs": [],
   "source": []
  },
  {
   "cell_type": "code",
   "execution_count": null,
   "id": "76a240b6",
   "metadata": {},
   "outputs": [],
   "source": []
  },
  {
   "cell_type": "code",
   "execution_count": null,
   "id": "36278ff3",
   "metadata": {},
   "outputs": [],
   "source": []
  },
  {
   "cell_type": "markdown",
   "id": "f57538a5",
   "metadata": {},
   "source": [
    "# V3 (6 survey) - Data Plot 04/01/2024 : Plot per morph"
   ]
  },
  {
   "cell_type": "markdown",
   "id": "088bd052",
   "metadata": {},
   "source": [
    "## 1. Find all the morphs"
   ]
  },
  {
   "cell_type": "code",
   "execution_count": 8,
   "id": "16edffe5",
   "metadata": {},
   "outputs": [
    {
     "data": {
      "text/html": [
       "<div>\n",
       "<style scoped>\n",
       "    .dataframe tbody tr th:only-of-type {\n",
       "        vertical-align: middle;\n",
       "    }\n",
       "\n",
       "    .dataframe tbody tr th {\n",
       "        vertical-align: top;\n",
       "    }\n",
       "\n",
       "    .dataframe thead th {\n",
       "        text-align: right;\n",
       "    }\n",
       "</style>\n",
       "<table border=\"1\" class=\"dataframe\">\n",
       "  <thead>\n",
       "    <tr style=\"text-align: right;\">\n",
       "      <th></th>\n",
       "      <th>AssignmentId</th>\n",
       "      <th>survey_index</th>\n",
       "      <th>date_time</th>\n",
       "      <th>class_A_imgs</th>\n",
       "      <th>class_B_imgs</th>\n",
       "      <th>worker_response</th>\n",
       "      <th>ImposterFound</th>\n",
       "      <th>test_img</th>\n",
       "      <th>ResponseTime</th>\n",
       "    </tr>\n",
       "  </thead>\n",
       "  <tbody>\n",
       "    <tr>\n",
       "      <th>120</th>\n",
       "      <td>lngftldu</td>\n",
       "      <td>0</td>\n",
       "      <td>03/20/2024, 20:54:27</td>\n",
       "      <td>face_morph_300_enriched_tail/normal_quests/Ain...</td>\n",
       "      <td>face_morph_300_enriched_tail/normal_quests/Ain...</td>\n",
       "      <td>1</td>\n",
       "      <td>0</td>\n",
       "      <td>face_morph_300_enriched_tail/normal_quests/Ain...</td>\n",
       "      <td>4562</td>\n",
       "    </tr>\n",
       "    <tr>\n",
       "      <th>121</th>\n",
       "      <td>lngftldu</td>\n",
       "      <td>0</td>\n",
       "      <td>03/20/2024, 20:54:29</td>\n",
       "      <td>face_morph_300_enriched_tail/normal_quests/Ain...</td>\n",
       "      <td>face_morph_300_enriched_tail/normal_quests/Ain...</td>\n",
       "      <td>2</td>\n",
       "      <td>0</td>\n",
       "      <td>face_morph_300_enriched_tail/normal_quests/Ain...</td>\n",
       "      <td>1201</td>\n",
       "    </tr>\n",
       "    <tr>\n",
       "      <th>122</th>\n",
       "      <td>lngftldu</td>\n",
       "      <td>0</td>\n",
       "      <td>03/20/2024, 20:54:31</td>\n",
       "      <td>face_morph_300_enriched_tail/normal_quests/Ain...</td>\n",
       "      <td>face_morph_300_enriched_tail/normal_quests/Ain...</td>\n",
       "      <td>2</td>\n",
       "      <td>0</td>\n",
       "      <td>face_morph_300_enriched_tail/normal_quests/Ain...</td>\n",
       "      <td>984</td>\n",
       "    </tr>\n",
       "    <tr>\n",
       "      <th>123</th>\n",
       "      <td>lngftldu</td>\n",
       "      <td>0</td>\n",
       "      <td>03/20/2024, 20:54:32</td>\n",
       "      <td>face_morph_300_enriched_tail/normal_quests/Ain...</td>\n",
       "      <td>face_morph_300_enriched_tail/normal_quests/Ain...</td>\n",
       "      <td>1</td>\n",
       "      <td>0</td>\n",
       "      <td>face_morph_300_enriched_tail/normal_quests/Ain...</td>\n",
       "      <td>1163</td>\n",
       "    </tr>\n",
       "    <tr>\n",
       "      <th>124</th>\n",
       "      <td>lngftldu</td>\n",
       "      <td>0</td>\n",
       "      <td>03/20/2024, 20:54:34</td>\n",
       "      <td>face_morph_300_enriched_tail/normal_quests/Ain...</td>\n",
       "      <td>face_morph_300_enriched_tail/normal_quests/Ain...</td>\n",
       "      <td>2</td>\n",
       "      <td>0</td>\n",
       "      <td>face_morph_300_enriched_tail/normal_quests/Ain...</td>\n",
       "      <td>973</td>\n",
       "    </tr>\n",
       "  </tbody>\n",
       "</table>\n",
       "</div>"
      ],
      "text/plain": [
       "    AssignmentId  survey_index             date_time  \\\n",
       "120     lngftldu             0  03/20/2024, 20:54:27   \n",
       "121     lngftldu             0  03/20/2024, 20:54:29   \n",
       "122     lngftldu             0  03/20/2024, 20:54:31   \n",
       "123     lngftldu             0  03/20/2024, 20:54:32   \n",
       "124     lngftldu             0  03/20/2024, 20:54:34   \n",
       "\n",
       "                                          class_A_imgs  \\\n",
       "120  face_morph_300_enriched_tail/normal_quests/Ain...   \n",
       "121  face_morph_300_enriched_tail/normal_quests/Ain...   \n",
       "122  face_morph_300_enriched_tail/normal_quests/Ain...   \n",
       "123  face_morph_300_enriched_tail/normal_quests/Ain...   \n",
       "124  face_morph_300_enriched_tail/normal_quests/Ain...   \n",
       "\n",
       "                                          class_B_imgs  worker_response  \\\n",
       "120  face_morph_300_enriched_tail/normal_quests/Ain...                1   \n",
       "121  face_morph_300_enriched_tail/normal_quests/Ain...                2   \n",
       "122  face_morph_300_enriched_tail/normal_quests/Ain...                2   \n",
       "123  face_morph_300_enriched_tail/normal_quests/Ain...                1   \n",
       "124  face_morph_300_enriched_tail/normal_quests/Ain...                2   \n",
       "\n",
       "     ImposterFound                                           test_img  \\\n",
       "120              0  face_morph_300_enriched_tail/normal_quests/Ain...   \n",
       "121              0  face_morph_300_enriched_tail/normal_quests/Ain...   \n",
       "122              0  face_morph_300_enriched_tail/normal_quests/Ain...   \n",
       "123              0  face_morph_300_enriched_tail/normal_quests/Ain...   \n",
       "124              0  face_morph_300_enriched_tail/normal_quests/Ain...   \n",
       "\n",
       "     ResponseTime  \n",
       "120          4562  \n",
       "121          1201  \n",
       "122           984  \n",
       "123          1163  \n",
       "124           973  "
      ]
     },
     "execution_count": 8,
     "metadata": {},
     "output_type": "execute_result"
    }
   ],
   "source": [
    "uniform_data.head(5)"
   ]
  },
  {
   "cell_type": "code",
   "execution_count": 9,
   "id": "9d84fbe6",
   "metadata": {},
   "outputs": [
    {
     "name": "stdout",
     "output_type": "stream",
     "text": [
      "['face_morph_300_enriched_tail/normal_quests/Ainsworth_Dyer_to_Claudio_Abbado/morph_img_0001.jpg'\n",
      " 'face_morph_300_enriched_tail/normal_quests/Alberto_Acosta_to_Robert_Tyrrell/morph_img_0001.jpg'\n",
      " 'face_morph_300_enriched_tail/normal_quests/Alexa_Vega_to_Kevin_Keegan/morph_img_0001.jpg'\n",
      " 'face_morph_300_enriched_tail/normal_quests/Aline_Chretien_to_Perry_Gibbs/morph_img_0002.jpg'\n",
      " 'face_morph_300_enriched_tail/normal_quests/Angel_Maza_to_Susan_Walvius/morph_img_0001.jpg'\n",
      " 'face_morph_300_enriched_tail/normal_quests/Ben_Chandler_to_Denys_Arcand/morph_img_0001.jpg']\n"
     ]
    }
   ],
   "source": [
    "all_morphs = uniform_data['class_A_imgs'].unique()\n",
    "# all_morphs = [\"face_morph_300_enriched_tail/normal_quests/Alexa_Vega_to_Kevin_Keegan/morph_img_0001.jpg\"]\n",
    "\n",
    "print(all_morphs)"
   ]
  },
  {
   "cell_type": "markdown",
   "id": "a05133fe",
   "metadata": {},
   "source": [
    "## 2. Loop each morph and plot"
   ]
  },
  {
   "cell_type": "code",
   "execution_count": 17,
   "id": "8dd04d46",
   "metadata": {},
   "outputs": [
    {
     "name": "stdout",
     "output_type": "stream",
     "text": [
      "face_morph_300_enriched_tail/normal_quests/Ainsworth_Dyer_to_Claudio_Abbado/morph_img_0001.jpg\n",
      "face_morph_300_enriched_tail/normal_quests/Alberto_Acosta_to_Robert_Tyrrell/morph_img_0001.jpg\n",
      "face_morph_300_enriched_tail/normal_quests/Alexa_Vega_to_Kevin_Keegan/morph_img_0001.jpg\n",
      "face_morph_300_enriched_tail/normal_quests/Aline_Chretien_to_Perry_Gibbs/morph_img_0002.jpg\n",
      "face_morph_300_enriched_tail/normal_quests/Angel_Maza_to_Susan_Walvius/morph_img_0001.jpg\n",
      "face_morph_300_enriched_tail/normal_quests/Ben_Chandler_to_Denys_Arcand/morph_img_0001.jpg\n"
     ]
    },
    {
     "data": {
      "image/png": "[encoded data removed]",
      "text/plain": [
       "<Figure size 432x288 with 1 Axes>"
      ]
     },
     "metadata": {
      "needs_background": "light"
     },
     "output_type": "display_data"
    },
    {
     "data": {
      "image/png": "[encoded data removed]",
      "text/plain": [
       "<Figure size 432x288 with 1 Axes>"
      ]
     },
     "metadata": {
      "needs_background": "light"
     },
     "output_type": "display_data"
    },
    {
     "data": {
      "image/png": "[encoded data removed]",
      "text/plain": [
       "<Figure size 432x288 with 1 Axes>"
      ]
     },
     "metadata": {
      "needs_background": "light"
     },
     "output_type": "display_data"
    },
    {
     "data": {
      "image/png": "[encoded data removed]",
      "text/plain": [
       "<Figure size 432x288 with 1 Axes>"
      ]
     },
     "metadata": {
      "needs_background": "light"
     },
     "output_type": "display_data"
    },
    {
     "data": {
      "image/png": "[encoded data removed]",
      "text/plain": [
       "<Figure size 432x288 with 1 Axes>"
      ]
     },
     "metadata": {
      "needs_background": "light"
     },
     "output_type": "display_data"
    },
    {
     "data": {
      "image/png": "[encoded data removed]",
      "text/plain": [
       "<Figure size 432x288 with 1 Axes>"
      ]
     },
     "metadata": {
      "needs_background": "light"
     },
     "output_type": "display_data"
    },
    {
     "data": {
      "image/png": "[encoded data removed]",
      "text/plain": [
       "<Figure size 432x288 with 1 Axes>"
      ]
     },
     "metadata": {
      "needs_background": "light"
     },
     "output_type": "display_data"
    },
    {
     "data": {
      "image/png": "[encoded data removed]",
      "text/plain": [
       "<Figure size 432x288 with 1 Axes>"
      ]
     },
     "metadata": {
      "needs_background": "light"
     },
     "output_type": "display_data"
    },
    {
     "data": {
      "image/png": "[encoded data removed]",
      "text/plain": [
       "<Figure size 432x288 with 1 Axes>"
      ]
     },
     "metadata": {
      "needs_background": "light"
     },
     "output_type": "display_data"
    },
    {
     "data": {
      "image/png": "[encoded data removed]",
      "text/plain": [
       "<Figure size 432x288 with 1 Axes>"
      ]
     },
     "metadata": {
      "needs_background": "light"
     },
     "output_type": "display_data"
    },
    {
     "data": {
      "image/png": "[encoded data removed]",
      "text/plain": [
       "<Figure size 432x288 with 1 Axes>"
      ]
     },
     "metadata": {
      "needs_background": "light"
     },
     "output_type": "display_data"
    },
    {
     "data": {
      "image/png": "[encoded data removed]",
      "text/plain": [
       "<Figure size 432x288 with 1 Axes>"
      ]
     },
     "metadata": {
      "needs_background": "light"
     },
     "output_type": "display_data"
    }
   ],
   "source": [
    "for one_morph in all_morphs:\n",
    "    print(one_morph)\n",
    "    \n",
    "    # Find all the submissions for this morph\n",
    "    one_morph_uniform = uniform_data.loc[uniform_data['class_A_imgs'] == one_morph]\n",
    "    one_morph_enrich = enrich_data.loc[enrich_data['class_A_imgs'] == one_morph]\n",
    "\n",
    "    \n",
    "    # Add column for test image names\n",
    "    one_uniform_results = add_img_name_column(one_morph_uniform)\n",
    "    one_enrich_results = add_img_name_column(one_morph_enrich)\n",
    "    \n",
    "#     print(one_enrich_results)\n",
    "    \n",
    "    # Create per-frame results\n",
    "    one_uniform_per_frame = generate_per_frame_response_w_data(one_uniform_results)\n",
    "    one_enrich_per_frame = generate_per_frame_response_w_data(one_enrich_results)\n",
    "    \n",
    "    # Post process\n",
    "    one_uniform_final = post_process_results(one_uniform_per_frame)\n",
    "    one_enrich_final = post_process_results(one_enrich_per_frame)\n",
    "    \n",
    "    \n",
    "    one_uniform_final.columns = [\"uniform\"]\n",
    "    one_enrich_final.columns = [\"enrich\"]\n",
    "    \n",
    "    # Plot\n",
    "    one_data = one_uniform_final.join(one_enrich_final)\n",
    "    \n",
    "    one_data = one_data.fillna(0)\n",
    "    \n",
    "    one_data.plot()\n",
    "    \n",
    "    one_data.plot.bar()"
   ]
  },
  {
   "cell_type": "code",
   "execution_count": null,
   "id": "ad0361be",
   "metadata": {},
   "outputs": [],
   "source": []
  },
  {
   "cell_type": "markdown",
   "id": "edb0e12e",
   "metadata": {},
   "source": [
    "# V3 (6 survey) - Data Plot 03/28/2024"
   ]
  },
  {
   "cell_type": "code",
   "execution_count": 2,
   "id": "1e1e13d0",
   "metadata": {},
   "outputs": [],
   "source": [
    "uniform_db_path = \"/Users/kiyoshi/Desktop/jov_everything/face_morph_6_v3/uniform.db\"\n",
    "enrich_db_path = \"/Users/kiyoshi/Desktop/jov_everything/face_morph_6_v3/enrich_tail.db\"\n",
    "\n",
    "# uniform_id = [\"yyckrtzi\", \"lngftldu\", \"fgvowiax\", \n",
    "#               \"bynzrbtw\", \"efdaxwun\", \"krpfunzk\", \"htrtvyca\"]\n",
    "# enrich_id = [\"yaqautvp\", \"dlhhkrml\", \"jmasmexb\", \n",
    "#              \"akcvcnwg\", \"xjcnyfhd\", \"bjjluxwg\", \"hcnohwpb\"]\n",
    "\n",
    "uniform_id = [\"lngftldu\", \"fgvowiax\", \n",
    "              \"bynzrbtw\", \"efdaxwun\", \"krpfunzk\", \"htrtvyca\"]\n",
    "enrich_id = [\"dlhhkrml\", \"jmasmexb\", \n",
    "             \"akcvcnwg\", \"xjcnyfhd\", \"bjjluxwg\", \"hcnohwpb\"]"
   ]
  },
  {
   "cell_type": "markdown",
   "id": "566552ae",
   "metadata": {},
   "source": [
    "## 1. Covert DB record to CSV"
   ]
  },
  {
   "cell_type": "code",
   "execution_count": 4,
   "id": "a159bb8c",
   "metadata": {},
   "outputs": [],
   "source": [
    "def convert_csv(db_path, output_file):\n",
    "    \"\"\"\n",
    "    Convert the user response from db into csv file\n",
    "\n",
    "    :param db_path: Database for user response\n",
    "\n",
    "    :return:\n",
    "    \"\"\"\n",
    "    conn = sqlite3.connect(db_path)\n",
    "    cursor = conn.cursor()\n",
    "    cursor.execute(\"select * from Responses;\")\n",
    "\n",
    "    with open(output_file, \"w\", newline='') as csv_file:\n",
    "        csv_writer = csv.writer(csv_file)\n",
    "\n",
    "        # write headers\n",
    "        csv_writer.writerow([i[0] for i in cursor.description])\n",
    "\n",
    "        # write content\n",
    "        csv_writer.writerows(cursor)"
   ]
  },
  {
   "cell_type": "code",
   "execution_count": 5,
   "id": "4a1dcc00",
   "metadata": {},
   "outputs": [],
   "source": [
    "uniform_csv = \"/Users/kiyoshi/Desktop/jov_everything/face_morph_6_v3/uniform.csv\"\n",
    "enrich_csv = \"/Users/kiyoshi/Desktop/jov_everything/face_morph_6_v3/enrich.csv\"\n",
    "\n",
    "convert_csv(uniform_db_path, uniform_csv)\n",
    "convert_csv(enrich_db_path, enrich_csv)"
   ]
  },
  {
   "cell_type": "markdown",
   "id": "2bf0667b",
   "metadata": {},
   "source": [
    "## 2. Overall Plot - all morphs and all participants"
   ]
  },
  {
   "cell_type": "code",
   "execution_count": 6,
   "id": "323ec83a",
   "metadata": {},
   "outputs": [
    {
     "name": "stdout",
     "output_type": "stream",
     "text": [
      "(840, 9) (840, 9)\n"
     ]
    }
   ],
   "source": [
    "uniform_data = pd.read_csv(uniform_csv)\n",
    "enrich_data = pd.read_csv(enrich_csv)\n",
    "\n",
    "print(uniform_data.shape, enrich_data.shape)"
   ]
  },
  {
   "cell_type": "code",
   "execution_count": 7,
   "id": "3e012f2b",
   "metadata": {},
   "outputs": [],
   "source": [
    "uniform_data = uniform_data.loc[uniform_data['AssignmentId'].isin(uniform_id)]\n",
    "enrich_data = enrich_data.loc[enrich_data['AssignmentId'].isin(enrich_id)]"
   ]
  },
  {
   "cell_type": "markdown",
   "id": "b5574e64",
   "metadata": {},
   "source": [
    "## 2.1 Add a column of test img name and save results to file"
   ]
  },
  {
   "cell_type": "code",
   "execution_count": 19,
   "id": "df056de1",
   "metadata": {},
   "outputs": [],
   "source": [
    "def add_img_name_column(df):\n",
    "    \"\"\"\n",
    "    Add a row of test image names in original dataframe\n",
    "    \"\"\"\n",
    "    # find test img index\n",
    "    # Add a column for test img names\n",
    "    df['test_img_name'] = df.test_img.str. \\\n",
    "                            split('/').str[-1].str.split(\"_\").str[-1].str.split(\".\").str[0]\n",
    "\n",
    "    # Only take the columns we need\n",
    "    df = df[[\"worker_response\", \"test_img_name\", \"ResponseTime\"]]\n",
    "    df[\"test_img_name\"] = df[\"test_img_name\"].astype(int)\n",
    "    df = df.sort_values(by=[\"test_img_name\"])\n",
    "    df[\"ResponseTime\"] = df[\"ResponseTime\"].astype(int)\n",
    "    df[\"ResponseTime\"] = df[\"ResponseTime\"]/1000\n",
    "    \n",
    "    return df"
   ]
  },
  {
   "cell_type": "code",
   "execution_count": 11,
   "id": "d2ad676c",
   "metadata": {},
   "outputs": [],
   "source": [
    "uniform_results = add_img_name_column(uniform_data)\n",
    "enrich_results = add_img_name_column(enrich_data)"
   ]
  },
  {
   "cell_type": "code",
   "execution_count": 12,
   "id": "3dfcd6e2",
   "metadata": {},
   "outputs": [],
   "source": [
    "uniform_results_path = \"/Users/kiyoshi/Desktop/jov_everything/face_morph_6_v3/uniform_results.csv\"\n",
    "enrich_results_path = \"/Users/kiyoshi/Desktop/jov_everything/face_morph_6_v3/enrich_results.csv\"\n",
    "\n",
    "uniform_results.to_csv(uniform_results_path)\n",
    "enrich_results.to_csv(enrich_results_path)"
   ]
  },
  {
   "cell_type": "markdown",
   "id": "59e7291e",
   "metadata": {},
   "source": [
    "## 2.2 Generate DF for per-test-image response"
   ]
  },
  {
   "cell_type": "code",
   "execution_count": 26,
   "id": "3fbfcaa3",
   "metadata": {},
   "outputs": [],
   "source": [
    "def generate_per_frame_response(response_csv_path):\n",
    "    data = pd.read_csv(response_csv_path)\n",
    "    \n",
    "    # Take the columns we need\n",
    "    data_selected = data[[\"worker_response\", \"test_img_name\", \"ResponseTime\"]]\n",
    "    data_selected.columns = [\"worker_response\", \"frame_index\", \"ResponseTime\"]\n",
    "    \n",
    "    data_final = data_selected\n",
    "\n",
    "    \n",
    "    # Get the avg RT for each frame\n",
    "    rt_frame = data_final[[\"frame_index\", \"ResponseTime\"]]\n",
    "    rt_frame = rt_frame.groupby([\"frame_index\"]).sum()\n",
    "    #print(rt_frame)\n",
    "    \n",
    "    # Group by frame index: \n",
    "    # response: get counts\n",
    "    grouped = data_final.groupby(['frame_index','worker_response']).worker_response. \\\n",
    "                            agg('count').to_frame('count').reset_index()\n",
    "    #print(grouped.head(10))\n",
    "    \n",
    "    # responses: get total counts\n",
    "    grouped_for_counts = grouped[['frame_index','count']]\n",
    "    total_counts = grouped_for_counts.groupby(['frame_index']).sum()\n",
    "    #print(total_counts)\n",
    "    \n",
    "    # responses: select the counts where worker response is 2\n",
    "    worker_response_selected = grouped[grouped['worker_response'] == 2]\n",
    "    worker_response_selected.columns = [\"frame_index\", \"worker_response\", \"person_b_counts\"]\n",
    "    worker_response_selected = worker_response_selected[[\"frame_index\", \"worker_response\", \"person_b_counts\"]]\n",
    "    \n",
    "    person_b_counts = worker_response_selected[[\"frame_index\", \"person_b_counts\"]]\n",
    "    #print(worker_response_selected)\n",
    "    \n",
    "    # responses: merge two frames\n",
    "    result_df = pd.merge(total_counts, person_b_counts, on=\"frame_index\")\n",
    "    result_df = pd.merge(result_df, rt_frame, on=\"frame_index\")\n",
    "    #print(result_df)\n",
    "    \n",
    "    # response: convert to probability of choosing person B as the answer\n",
    "    result_df[\"prob_b\"] = result_df[\"person_b_counts\"]/result_df[\"count\"]\n",
    "    result_df[\"avg_rt\"] = result_df[\"ResponseTime\"]/(result_df[\"count\"]*1000)\n",
    "    \n",
    "    return result_df"
   ]
  },
  {
   "cell_type": "code",
   "execution_count": 61,
   "id": "0411a769",
   "metadata": {},
   "outputs": [],
   "source": [
    "uniform_per_frame = generate_per_frame_response(uniform_results_path)\n",
    "enrich_per_frame = generate_per_frame_response(enrich_results_path)"
   ]
  },
  {
   "cell_type": "markdown",
   "id": "256b8b3c",
   "metadata": {},
   "source": [
    "## 2.3 Post-process: reset index and etc"
   ]
  },
  {
   "cell_type": "code",
   "execution_count": 19,
   "id": "3ce46d40",
   "metadata": {},
   "outputs": [],
   "source": [
    "def post_process_results(df):\n",
    "    \"\"\"\n",
    "    \"\"\"\n",
    "    \n",
    "    df = df[[\"frame_index\", \"prob_b\"]]\n",
    "    df = df.set_index('frame_index')\n",
    "    \n",
    "    return df"
   ]
  },
  {
   "cell_type": "code",
   "execution_count": 63,
   "id": "09db6df8",
   "metadata": {},
   "outputs": [],
   "source": [
    "uniform_final = post_process_results(uniform_per_frame)\n",
    "enrich_final = post_process_results(enrich_per_frame)"
   ]
  },
  {
   "cell_type": "markdown",
   "id": "f18ab6f5",
   "metadata": {},
   "source": [
    "## 2.4 Plot "
   ]
  },
  {
   "cell_type": "code",
   "execution_count": 64,
   "id": "206e9e40",
   "metadata": {},
   "outputs": [],
   "source": [
    "uniform_final.columns = [\"uniform\"]\n",
    "enrich_final.columns = [\"enrich\"]"
   ]
  },
  {
   "cell_type": "code",
   "execution_count": 65,
   "id": "453541fa",
   "metadata": {},
   "outputs": [],
   "source": [
    "all_data = uniform_final.join(enrich_final)"
   ]
  },
  {
   "cell_type": "code",
   "execution_count": 66,
   "id": "2623d81a",
   "metadata": {},
   "outputs": [
    {
     "data": {
      "text/plain": [
       "<AxesSubplot:xlabel='frame_index'>"
      ]
     },
     "execution_count": 66,
     "metadata": {},
     "output_type": "execute_result"
    },
    {
     "data": {
      "image/png": "[encoded data removed]",
      "text/plain": [
       "<Figure size 432x288 with 1 Axes>"
      ]
     },
     "metadata": {
      "needs_background": "light"
     },
     "output_type": "display_data"
    }
   ],
   "source": [
    "all_data.plot()"
   ]
  },
  {
   "cell_type": "code",
   "execution_count": 67,
   "id": "34bad652",
   "metadata": {},
   "outputs": [
    {
     "data": {
      "text/plain": [
       "<AxesSubplot:xlabel='frame_index'>"
      ]
     },
     "execution_count": 67,
     "metadata": {},
     "output_type": "execute_result"
    },
    {
     "data": {
      "image/png": "[encoded data removed]",
      "text/plain": [
       "<Figure size 432x288 with 1 Axes>"
      ]
     },
     "metadata": {
      "needs_background": "light"
     },
     "output_type": "display_data"
    }
   ],
   "source": [
    "all_data.plot.bar()"
   ]
  },
  {
   "cell_type": "code",
   "execution_count": 23,
   "id": "f80ebd29",
   "metadata": {
    "scrolled": true
   },
   "outputs": [
    {
     "data": {
      "text/html": [
       "<div>\n",
       "<style scoped>\n",
       "    .dataframe tbody tr th:only-of-type {\n",
       "        vertical-align: middle;\n",
       "    }\n",
       "\n",
       "    .dataframe tbody tr th {\n",
       "        vertical-align: top;\n",
       "    }\n",
       "\n",
       "    .dataframe thead th {\n",
       "        text-align: right;\n",
       "    }\n",
       "</style>\n",
       "<table border=\"1\" class=\"dataframe\">\n",
       "  <thead>\n",
       "    <tr style=\"text-align: right;\">\n",
       "      <th></th>\n",
       "      <th>uniform</th>\n",
       "      <th>enrich</th>\n",
       "    </tr>\n",
       "    <tr>\n",
       "      <th>frame_index</th>\n",
       "      <th></th>\n",
       "      <th></th>\n",
       "    </tr>\n",
       "  </thead>\n",
       "  <tbody>\n",
       "    <tr>\n",
       "      <th>36</th>\n",
       "      <td>0.190476</td>\n",
       "      <td>0.119048</td>\n",
       "    </tr>\n",
       "    <tr>\n",
       "      <th>38</th>\n",
       "      <td>0.190476</td>\n",
       "      <td>0.119048</td>\n",
       "    </tr>\n",
       "    <tr>\n",
       "      <th>40</th>\n",
       "      <td>0.166667</td>\n",
       "      <td>0.095238</td>\n",
       "    </tr>\n",
       "    <tr>\n",
       "      <th>42</th>\n",
       "      <td>0.190476</td>\n",
       "      <td>0.142857</td>\n",
       "    </tr>\n",
       "    <tr>\n",
       "      <th>45</th>\n",
       "      <td>0.142857</td>\n",
       "      <td>0.190476</td>\n",
       "    </tr>\n",
       "    <tr>\n",
       "      <th>47</th>\n",
       "      <td>0.238095</td>\n",
       "      <td>0.238095</td>\n",
       "    </tr>\n",
       "    <tr>\n",
       "      <th>50</th>\n",
       "      <td>0.428571</td>\n",
       "      <td>0.404762</td>\n",
       "    </tr>\n",
       "    <tr>\n",
       "      <th>52</th>\n",
       "      <td>0.357143</td>\n",
       "      <td>0.404762</td>\n",
       "    </tr>\n",
       "    <tr>\n",
       "      <th>55</th>\n",
       "      <td>0.452381</td>\n",
       "      <td>0.523810</td>\n",
       "    </tr>\n",
       "    <tr>\n",
       "      <th>57</th>\n",
       "      <td>0.690476</td>\n",
       "      <td>0.547619</td>\n",
       "    </tr>\n",
       "    <tr>\n",
       "      <th>60</th>\n",
       "      <td>0.809524</td>\n",
       "      <td>0.809524</td>\n",
       "    </tr>\n",
       "    <tr>\n",
       "      <th>62</th>\n",
       "      <td>0.809524</td>\n",
       "      <td>0.714286</td>\n",
       "    </tr>\n",
       "    <tr>\n",
       "      <th>65</th>\n",
       "      <td>0.761905</td>\n",
       "      <td>0.738095</td>\n",
       "    </tr>\n",
       "    <tr>\n",
       "      <th>67</th>\n",
       "      <td>0.857143</td>\n",
       "      <td>0.880952</td>\n",
       "    </tr>\n",
       "    <tr>\n",
       "      <th>70</th>\n",
       "      <td>0.952381</td>\n",
       "      <td>0.976190</td>\n",
       "    </tr>\n",
       "    <tr>\n",
       "      <th>72</th>\n",
       "      <td>0.928571</td>\n",
       "      <td>0.976190</td>\n",
       "    </tr>\n",
       "    <tr>\n",
       "      <th>74</th>\n",
       "      <td>1.000000</td>\n",
       "      <td>0.976190</td>\n",
       "    </tr>\n",
       "    <tr>\n",
       "      <th>76</th>\n",
       "      <td>1.000000</td>\n",
       "      <td>0.976190</td>\n",
       "    </tr>\n",
       "    <tr>\n",
       "      <th>78</th>\n",
       "      <td>1.000000</td>\n",
       "      <td>0.952381</td>\n",
       "    </tr>\n",
       "    <tr>\n",
       "      <th>80</th>\n",
       "      <td>0.952381</td>\n",
       "      <td>0.952381</td>\n",
       "    </tr>\n",
       "  </tbody>\n",
       "</table>\n",
       "</div>"
      ],
      "text/plain": [
       "              uniform    enrich\n",
       "frame_index                    \n",
       "36           0.190476  0.119048\n",
       "38           0.190476  0.119048\n",
       "40           0.166667  0.095238\n",
       "42           0.190476  0.142857\n",
       "45           0.142857  0.190476\n",
       "47           0.238095  0.238095\n",
       "50           0.428571  0.404762\n",
       "52           0.357143  0.404762\n",
       "55           0.452381  0.523810\n",
       "57           0.690476  0.547619\n",
       "60           0.809524  0.809524\n",
       "62           0.809524  0.714286\n",
       "65           0.761905  0.738095\n",
       "67           0.857143  0.880952\n",
       "70           0.952381  0.976190\n",
       "72           0.928571  0.976190\n",
       "74           1.000000  0.976190\n",
       "76           1.000000  0.976190\n",
       "78           1.000000  0.952381\n",
       "80           0.952381  0.952381"
      ]
     },
     "execution_count": 23,
     "metadata": {},
     "output_type": "execute_result"
    }
   ],
   "source": [
    "all_data"
   ]
  },
  {
   "cell_type": "markdown",
   "id": "756c1d11",
   "metadata": {},
   "source": [
    "## 3. Plot per-morph plots"
   ]
  },
  {
   "cell_type": "code",
   "execution_count": 15,
   "id": "db2bddd8",
   "metadata": {},
   "outputs": [],
   "source": [
    "def generate_per_frame_response_w_data(data):\n",
    "    # Take the columns we need\n",
    "    data_selected = data[[\"worker_response\", \"test_img_name\", \"ResponseTime\"]]\n",
    "    data_selected.columns = [\"worker_response\", \"frame_index\", \"ResponseTime\"]\n",
    "    \n",
    "    data_final = data_selected\n",
    "\n",
    "    \n",
    "    # Get the avg RT for each frame\n",
    "    rt_frame = data_final[[\"frame_index\", \"ResponseTime\"]]\n",
    "    rt_frame = rt_frame.groupby([\"frame_index\"]).sum()\n",
    "    #print(rt_frame)\n",
    "    \n",
    "    # Group by frame index: \n",
    "    # response: get counts\n",
    "    grouped = data_final.groupby(['frame_index','worker_response']).worker_response. \\\n",
    "                            agg('count').to_frame('count').reset_index()\n",
    "    #print(grouped.head(10))\n",
    "    \n",
    "    # responses: get total counts\n",
    "    grouped_for_counts = grouped[['frame_index','count']]\n",
    "    total_counts = grouped_for_counts.groupby(['frame_index']).sum()\n",
    "    #print(total_counts)\n",
    "    \n",
    "    # responses: select the counts where worker response is 2\n",
    "    worker_response_selected = grouped[grouped['worker_response'] == 2]\n",
    "    worker_response_selected.columns = [\"frame_index\", \"worker_response\", \"person_b_counts\"]\n",
    "    worker_response_selected = worker_response_selected[[\"frame_index\", \"worker_response\", \"person_b_counts\"]]\n",
    "    \n",
    "    person_b_counts = worker_response_selected[[\"frame_index\", \"person_b_counts\"]]\n",
    "    #print(worker_response_selected)\n",
    "    \n",
    "    # responses: merge two frames\n",
    "    result_df = pd.merge(total_counts, person_b_counts, on=\"frame_index\")\n",
    "    result_df = pd.merge(result_df, rt_frame, on=\"frame_index\")\n",
    "    #print(result_df)\n",
    "    \n",
    "    # response: convert to probability of choosing person B as the answer\n",
    "    result_df[\"prob_b\"] = result_df[\"person_b_counts\"]/result_df[\"count\"]\n",
    "    result_df[\"avg_rt\"] = result_df[\"ResponseTime\"]/(result_df[\"count\"]*1000)\n",
    "    \n",
    "    return result_df"
   ]
  },
  {
   "cell_type": "code",
   "execution_count": null,
   "id": "3a2ea2e5",
   "metadata": {},
   "outputs": [],
   "source": []
  },
  {
   "cell_type": "code",
   "execution_count": null,
   "id": "040535f5",
   "metadata": {},
   "outputs": [],
   "source": []
  },
  {
   "cell_type": "markdown",
   "id": "6e70e222",
   "metadata": {},
   "source": [
    "# Old - Data analysis 03/07/2024"
   ]
  },
  {
   "cell_type": "code",
   "execution_count": 28,
   "id": "ad4b6b94",
   "metadata": {},
   "outputs": [],
   "source": [
    "database_path = [\"/Users/kiyoshi/Desktop/jov_everything/24_survey/memeTurkWork.db\",\n",
    "                \"/Users/kiyoshi/Desktop/jov_everything/24_survey/memeTurkWork_wrong_indexing.db\",\n",
    "                \"/Users/kiyoshi/Desktop/jov_everything/24_survey/memeTurkWork_myself_4.db\"]\n",
    "raw_csv_save_path = \"/Users/kiyoshi/Desktop/jov_everything/24_survey/combine_3_db.csv\""
   ]
  },
  {
   "cell_type": "code",
   "execution_count": 29,
   "id": "f59b523e",
   "metadata": {},
   "outputs": [],
   "source": [
    "worker_id_uniform = [\"tpcmympo\", \"xbnwovwi\", \"jlflqtkp\", \"cpjqwncf\"]\n",
    "worker_id_enrich = [\"odpavqyq\", \"mkzyngfl\", \"qtcbfunj\", \n",
    "                    \"rxvkdfak\", \"qevypgjf\", \"jmdnxpau\"]"
   ]
  },
  {
   "cell_type": "code",
   "execution_count": 30,
   "id": "d1336fc1",
   "metadata": {},
   "outputs": [],
   "source": [
    "with open(raw_csv_save_path, \"w\", newline='') as csv_file:\n",
    "    csv_writer = csv.writer(csv_file)\n",
    "    \n",
    "    for one_db in database_path:\n",
    "        conn = sqlite3.connect(one_db)\n",
    "        cursor = conn.cursor()\n",
    "        cursor.execute(\"select * from Responses;\")\n",
    "\n",
    "        # write headers\n",
    "        csv_writer.writerow([i[0] for i in cursor.description])\n",
    "\n",
    "        # write content\n",
    "        csv_writer.writerows(cursor)"
   ]
  },
  {
   "cell_type": "code",
   "execution_count": 31,
   "id": "940898c2",
   "metadata": {},
   "outputs": [],
   "source": [
    "raw_data = pd.read_csv(raw_csv_save_path)"
   ]
  },
  {
   "cell_type": "code",
   "execution_count": 32,
   "id": "3d30997e",
   "metadata": {},
   "outputs": [
    {
     "data": {
      "text/plain": [
       "(1906, 9)"
      ]
     },
     "execution_count": 32,
     "metadata": {},
     "output_type": "execute_result"
    }
   ],
   "source": [
    "raw_data.shape"
   ]
  },
  {
   "cell_type": "code",
   "execution_count": 33,
   "id": "04cd099a",
   "metadata": {},
   "outputs": [],
   "source": [
    "# Find answers for uniform\n",
    "uniform_record = raw_data.loc[raw_data['AssignmentId'].isin(worker_id_uniform)]"
   ]
  },
  {
   "cell_type": "code",
   "execution_count": 34,
   "id": "91dd5369",
   "metadata": {},
   "outputs": [
    {
     "data": {
      "text/plain": [
       "(480, 9)"
      ]
     },
     "execution_count": 34,
     "metadata": {},
     "output_type": "execute_result"
    }
   ],
   "source": [
    "uniform_record.shape"
   ]
  },
  {
   "cell_type": "code",
   "execution_count": 35,
   "id": "43572de6",
   "metadata": {},
   "outputs": [
    {
     "data": {
      "text/html": [
       "<div>\n",
       "<style scoped>\n",
       "    .dataframe tbody tr th:only-of-type {\n",
       "        vertical-align: middle;\n",
       "    }\n",
       "\n",
       "    .dataframe tbody tr th {\n",
       "        vertical-align: top;\n",
       "    }\n",
       "\n",
       "    .dataframe thead th {\n",
       "        text-align: right;\n",
       "    }\n",
       "</style>\n",
       "<table border=\"1\" class=\"dataframe\">\n",
       "  <thead>\n",
       "    <tr style=\"text-align: right;\">\n",
       "      <th></th>\n",
       "      <th>AssignmentId</th>\n",
       "      <th>survey_index</th>\n",
       "      <th>date_time</th>\n",
       "      <th>class_A_imgs</th>\n",
       "      <th>class_B_imgs</th>\n",
       "      <th>worker_response</th>\n",
       "      <th>ImposterFound</th>\n",
       "      <th>test_img</th>\n",
       "      <th>ResponseTime</th>\n",
       "    </tr>\n",
       "  </thead>\n",
       "  <tbody>\n",
       "    <tr>\n",
       "      <th>0</th>\n",
       "      <td>cpjqwncf</td>\n",
       "      <td>2</td>\n",
       "      <td>02/29/2024, 22:13:27</td>\n",
       "      <td>face_morph_300_enriched_tail/normal_quests/Chi...</td>\n",
       "      <td>face_morph_300_enriched_tail/normal_quests/Chi...</td>\n",
       "      <td>1</td>\n",
       "      <td>0</td>\n",
       "      <td>face_morph_300_enriched_tail/normal_quests/Chi...</td>\n",
       "      <td>7483</td>\n",
       "    </tr>\n",
       "    <tr>\n",
       "      <th>1</th>\n",
       "      <td>cpjqwncf</td>\n",
       "      <td>2</td>\n",
       "      <td>02/29/2024, 22:13:34</td>\n",
       "      <td>face_morph_300_enriched_tail/normal_quests/Chi...</td>\n",
       "      <td>face_morph_300_enriched_tail/normal_quests/Chi...</td>\n",
       "      <td>1</td>\n",
       "      <td>0</td>\n",
       "      <td>face_morph_300_enriched_tail/normal_quests/Chi...</td>\n",
       "      <td>5922</td>\n",
       "    </tr>\n",
       "    <tr>\n",
       "      <th>2</th>\n",
       "      <td>cpjqwncf</td>\n",
       "      <td>2</td>\n",
       "      <td>02/29/2024, 22:13:44</td>\n",
       "      <td>face_morph_300_enriched_tail/normal_quests/Chi...</td>\n",
       "      <td>face_morph_300_enriched_tail/normal_quests/Chi...</td>\n",
       "      <td>1</td>\n",
       "      <td>0</td>\n",
       "      <td>face_morph_300_enriched_tail/normal_quests/Chi...</td>\n",
       "      <td>9439</td>\n",
       "    </tr>\n",
       "  </tbody>\n",
       "</table>\n",
       "</div>"
      ],
      "text/plain": [
       "  AssignmentId survey_index             date_time  \\\n",
       "0     cpjqwncf            2  02/29/2024, 22:13:27   \n",
       "1     cpjqwncf            2  02/29/2024, 22:13:34   \n",
       "2     cpjqwncf            2  02/29/2024, 22:13:44   \n",
       "\n",
       "                                        class_A_imgs  \\\n",
       "0  face_morph_300_enriched_tail/normal_quests/Chi...   \n",
       "1  face_morph_300_enriched_tail/normal_quests/Chi...   \n",
       "2  face_morph_300_enriched_tail/normal_quests/Chi...   \n",
       "\n",
       "                                        class_B_imgs worker_response  \\\n",
       "0  face_morph_300_enriched_tail/normal_quests/Chi...               1   \n",
       "1  face_morph_300_enriched_tail/normal_quests/Chi...               1   \n",
       "2  face_morph_300_enriched_tail/normal_quests/Chi...               1   \n",
       "\n",
       "  ImposterFound                                           test_img  \\\n",
       "0             0  face_morph_300_enriched_tail/normal_quests/Chi...   \n",
       "1             0  face_morph_300_enriched_tail/normal_quests/Chi...   \n",
       "2             0  face_morph_300_enriched_tail/normal_quests/Chi...   \n",
       "\n",
       "  ResponseTime  \n",
       "0         7483  \n",
       "1         5922  \n",
       "2         9439  "
      ]
     },
     "execution_count": 35,
     "metadata": {},
     "output_type": "execute_result"
    }
   ],
   "source": [
    "uniform_record.head(3)"
   ]
  },
  {
   "cell_type": "code",
   "execution_count": 36,
   "id": "e189da7c",
   "metadata": {},
   "outputs": [],
   "source": [
    "# find answers for enrich\n",
    "enrich_record = raw_data.loc[raw_data['AssignmentId'].isin(worker_id_enrich)]"
   ]
  },
  {
   "cell_type": "code",
   "execution_count": 37,
   "id": "a5a55cc7",
   "metadata": {},
   "outputs": [
    {
     "data": {
      "text/plain": [
       "(720, 9)"
      ]
     },
     "execution_count": 37,
     "metadata": {},
     "output_type": "execute_result"
    }
   ],
   "source": [
    "enrich_record.shape"
   ]
  },
  {
   "cell_type": "code",
   "execution_count": 38,
   "id": "61bf90aa",
   "metadata": {},
   "outputs": [],
   "source": [
    "# find test img index\n",
    "# Add a column for test img names\n",
    "uniform_record['test_img_name'] = uniform_record.test_img.str. \\\n",
    "split('/').str[-1].str.split(\"_\").str[-1].str.split(\".\").str[0]\n",
    "\n",
    "# Only take the columns we need\n",
    "uniform_record = uniform_record[[\"worker_response\", \"test_img_name\", \"ResponseTime\"]]\n",
    "uniform_record[\"test_img_name\"] = uniform_record[\"test_img_name\"].astype(int)\n",
    "uniform_record = uniform_record.sort_values(by=[\"test_img_name\"])\n",
    "uniform_record[\"ResponseTime\"] = uniform_record[\"ResponseTime\"].astype(int)\n",
    "uniform_record[\"ResponseTime\"] = uniform_record[\"ResponseTime\"]/1000"
   ]
  },
  {
   "cell_type": "code",
   "execution_count": 39,
   "id": "62e104a8",
   "metadata": {},
   "outputs": [
    {
     "data": {
      "text/html": [
       "<div>\n",
       "<style scoped>\n",
       "    .dataframe tbody tr th:only-of-type {\n",
       "        vertical-align: middle;\n",
       "    }\n",
       "\n",
       "    .dataframe tbody tr th {\n",
       "        vertical-align: top;\n",
       "    }\n",
       "\n",
       "    .dataframe thead th {\n",
       "        text-align: right;\n",
       "    }\n",
       "</style>\n",
       "<table border=\"1\" class=\"dataframe\">\n",
       "  <thead>\n",
       "    <tr style=\"text-align: right;\">\n",
       "      <th></th>\n",
       "      <th>worker_response</th>\n",
       "      <th>test_img_name</th>\n",
       "      <th>ResponseTime</th>\n",
       "    </tr>\n",
       "  </thead>\n",
       "  <tbody>\n",
       "    <tr>\n",
       "      <th>16</th>\n",
       "      <td>1</td>\n",
       "      <td>36</td>\n",
       "      <td>2.369</td>\n",
       "    </tr>\n",
       "    <tr>\n",
       "      <th>353</th>\n",
       "      <td>1</td>\n",
       "      <td>36</td>\n",
       "      <td>1.279</td>\n",
       "    </tr>\n",
       "    <tr>\n",
       "      <th>161</th>\n",
       "      <td>1</td>\n",
       "      <td>36</td>\n",
       "      <td>1.574</td>\n",
       "    </tr>\n",
       "    <tr>\n",
       "      <th>74</th>\n",
       "      <td>1</td>\n",
       "      <td>36</td>\n",
       "      <td>6.453</td>\n",
       "    </tr>\n",
       "    <tr>\n",
       "      <th>194</th>\n",
       "      <td>1</td>\n",
       "      <td>36</td>\n",
       "      <td>0.996</td>\n",
       "    </tr>\n",
       "    <tr>\n",
       "      <th>...</th>\n",
       "      <td>...</td>\n",
       "      <td>...</td>\n",
       "      <td>...</td>\n",
       "    </tr>\n",
       "    <tr>\n",
       "      <th>369</th>\n",
       "      <td>2</td>\n",
       "      <td>80</td>\n",
       "      <td>7.622</td>\n",
       "    </tr>\n",
       "    <tr>\n",
       "      <th>425</th>\n",
       "      <td>2</td>\n",
       "      <td>80</td>\n",
       "      <td>3.465</td>\n",
       "    </tr>\n",
       "    <tr>\n",
       "      <th>191</th>\n",
       "      <td>2</td>\n",
       "      <td>80</td>\n",
       "      <td>2.901</td>\n",
       "    </tr>\n",
       "    <tr>\n",
       "      <th>387</th>\n",
       "      <td>2</td>\n",
       "      <td>80</td>\n",
       "      <td>10.239</td>\n",
       "    </tr>\n",
       "    <tr>\n",
       "      <th>82</th>\n",
       "      <td>2</td>\n",
       "      <td>80</td>\n",
       "      <td>1.020</td>\n",
       "    </tr>\n",
       "  </tbody>\n",
       "</table>\n",
       "<p>480 rows × 3 columns</p>\n",
       "</div>"
      ],
      "text/plain": [
       "    worker_response  test_img_name  ResponseTime\n",
       "16                1             36         2.369\n",
       "353               1             36         1.279\n",
       "161               1             36         1.574\n",
       "74                1             36         6.453\n",
       "194               1             36         0.996\n",
       "..              ...            ...           ...\n",
       "369               2             80         7.622\n",
       "425               2             80         3.465\n",
       "191               2             80         2.901\n",
       "387               2             80        10.239\n",
       "82                2             80         1.020\n",
       "\n",
       "[480 rows x 3 columns]"
      ]
     },
     "execution_count": 39,
     "metadata": {},
     "output_type": "execute_result"
    }
   ],
   "source": [
    "uniform_record"
   ]
  },
  {
   "cell_type": "code",
   "execution_count": 40,
   "id": "d7c895a7",
   "metadata": {},
   "outputs": [],
   "source": [
    "# find test img index\n",
    "# Add a column for test img names\n",
    "enrich_record['test_img_name'] = enrich_record.test_img.str. \\\n",
    "split('/').str[-1].str.split(\"_\").str[-1].str.split(\".\").str[0]\n",
    "\n",
    "# Only take the columns we need\n",
    "enrich_record = enrich_record[[\"worker_response\", \"test_img_name\", \"ResponseTime\"]]\n",
    "enrich_record[\"test_img_name\"] = enrich_record[\"test_img_name\"].astype(int)\n",
    "enrich_record = enrich_record.sort_values(by=[\"test_img_name\"])\n",
    "enrich_record[\"ResponseTime\"] = enrich_record[\"ResponseTime\"].astype(int)\n",
    "enrich_record[\"ResponseTime\"] = enrich_record[\"ResponseTime\"]/1000"
   ]
  },
  {
   "cell_type": "code",
   "execution_count": 41,
   "id": "1c51d777",
   "metadata": {},
   "outputs": [
    {
     "data": {
      "text/html": [
       "<div>\n",
       "<style scoped>\n",
       "    .dataframe tbody tr th:only-of-type {\n",
       "        vertical-align: middle;\n",
       "    }\n",
       "\n",
       "    .dataframe tbody tr th {\n",
       "        vertical-align: top;\n",
       "    }\n",
       "\n",
       "    .dataframe thead th {\n",
       "        text-align: right;\n",
       "    }\n",
       "</style>\n",
       "<table border=\"1\" class=\"dataframe\">\n",
       "  <thead>\n",
       "    <tr style=\"text-align: right;\">\n",
       "      <th></th>\n",
       "      <th>worker_response</th>\n",
       "      <th>test_img_name</th>\n",
       "      <th>ResponseTime</th>\n",
       "    </tr>\n",
       "  </thead>\n",
       "  <tbody>\n",
       "    <tr>\n",
       "      <th>975</th>\n",
       "      <td>1</td>\n",
       "      <td>36</td>\n",
       "      <td>1.158</td>\n",
       "    </tr>\n",
       "    <tr>\n",
       "      <th>1303</th>\n",
       "      <td>2</td>\n",
       "      <td>36</td>\n",
       "      <td>3.350</td>\n",
       "    </tr>\n",
       "    <tr>\n",
       "      <th>629</th>\n",
       "      <td>2</td>\n",
       "      <td>36</td>\n",
       "      <td>0.964</td>\n",
       "    </tr>\n",
       "    <tr>\n",
       "      <th>1278</th>\n",
       "      <td>2</td>\n",
       "      <td>36</td>\n",
       "      <td>1.580</td>\n",
       "    </tr>\n",
       "    <tr>\n",
       "      <th>1381</th>\n",
       "      <td>1</td>\n",
       "      <td>36</td>\n",
       "      <td>1.588</td>\n",
       "    </tr>\n",
       "    <tr>\n",
       "      <th>...</th>\n",
       "      <td>...</td>\n",
       "      <td>...</td>\n",
       "      <td>...</td>\n",
       "    </tr>\n",
       "    <tr>\n",
       "      <th>824</th>\n",
       "      <td>2</td>\n",
       "      <td>80</td>\n",
       "      <td>3.407</td>\n",
       "    </tr>\n",
       "    <tr>\n",
       "      <th>977</th>\n",
       "      <td>2</td>\n",
       "      <td>80</td>\n",
       "      <td>1.514</td>\n",
       "    </tr>\n",
       "    <tr>\n",
       "      <th>1141</th>\n",
       "      <td>2</td>\n",
       "      <td>80</td>\n",
       "      <td>0.787</td>\n",
       "    </tr>\n",
       "    <tr>\n",
       "      <th>1358</th>\n",
       "      <td>2</td>\n",
       "      <td>80</td>\n",
       "      <td>1.258</td>\n",
       "    </tr>\n",
       "    <tr>\n",
       "      <th>1021</th>\n",
       "      <td>2</td>\n",
       "      <td>80</td>\n",
       "      <td>1.893</td>\n",
       "    </tr>\n",
       "  </tbody>\n",
       "</table>\n",
       "<p>720 rows × 3 columns</p>\n",
       "</div>"
      ],
      "text/plain": [
       "     worker_response  test_img_name  ResponseTime\n",
       "975                1             36         1.158\n",
       "1303               2             36         3.350\n",
       "629                2             36         0.964\n",
       "1278               2             36         1.580\n",
       "1381               1             36         1.588\n",
       "...              ...            ...           ...\n",
       "824                2             80         3.407\n",
       "977                2             80         1.514\n",
       "1141               2             80         0.787\n",
       "1358               2             80         1.258\n",
       "1021               2             80         1.893\n",
       "\n",
       "[720 rows x 3 columns]"
      ]
     },
     "execution_count": 41,
     "metadata": {},
     "output_type": "execute_result"
    }
   ],
   "source": [
    "enrich_record"
   ]
  },
  {
   "cell_type": "code",
   "execution_count": 42,
   "id": "0778ee2a",
   "metadata": {},
   "outputs": [],
   "source": [
    "uniform_record.to_csv(\"/Users/kiyoshi/Desktop/jov_everything/24_survey/uniform_record.csv\")\n",
    "enrich_record.to_csv(\"/Users/kiyoshi/Desktop/jov_everything/24_survey/enrich_record.csv\")"
   ]
  },
  {
   "cell_type": "code",
   "execution_count": 43,
   "id": "01edda22",
   "metadata": {},
   "outputs": [],
   "source": [
    "def generate_per_frame_response(response_csv_path):\n",
    "    data = pd.read_csv(response_csv_path)\n",
    "    \n",
    "    # Take the columns we need\n",
    "    data_selected = data[[\"worker_response\", \"test_img_name\", \"ResponseTime\"]]\n",
    "    data_selected.columns = [\"worker_response\", \"frame_index\", \"ResponseTime\"]\n",
    "    \n",
    "    data_final = data_selected\n",
    "\n",
    "    \n",
    "    # Get the avg RT for each frame\n",
    "    rt_frame = data_final[[\"frame_index\", \"ResponseTime\"]]\n",
    "    rt_frame = rt_frame.groupby([\"frame_index\"]).sum()\n",
    "    #print(rt_frame)\n",
    "    \n",
    "    # Group by frame index: \n",
    "    # response: get counts\n",
    "    grouped = data_final.groupby(['frame_index','worker_response']).worker_response. \\\n",
    "                            agg('count').to_frame('count').reset_index()\n",
    "    #print(grouped.head(10))\n",
    "    \n",
    "    # responses: get total counts\n",
    "    grouped_for_counts = grouped[['frame_index','count']]\n",
    "    total_counts = grouped_for_counts.groupby(['frame_index']).sum()\n",
    "    #print(total_counts)\n",
    "    \n",
    "    # responses: select the counts where worker response is 2\n",
    "    worker_response_selected = grouped[grouped['worker_response'] == 2]\n",
    "    worker_response_selected.columns = [\"frame_index\", \"worker_response\", \"person_b_counts\"]\n",
    "    worker_response_selected = worker_response_selected[[\"frame_index\", \"worker_response\", \"person_b_counts\"]]\n",
    "    \n",
    "    person_b_counts = worker_response_selected[[\"frame_index\", \"person_b_counts\"]]\n",
    "    #print(worker_response_selected)\n",
    "    \n",
    "    # responses: merge two frames\n",
    "    result_df = pd.merge(total_counts, person_b_counts, on=\"frame_index\")\n",
    "    result_df = pd.merge(result_df, rt_frame, on=\"frame_index\")\n",
    "    #print(result_df)\n",
    "    \n",
    "    # response: convert to probability of choosing person B as the answer\n",
    "    result_df[\"prob_b\"] = result_df[\"person_b_counts\"]/result_df[\"count\"]\n",
    "    result_df[\"avg_rt\"] = result_df[\"ResponseTime\"]/(result_df[\"count\"]*1000)\n",
    "    \n",
    "    return result_df"
   ]
  },
  {
   "cell_type": "code",
   "execution_count": 44,
   "id": "8f5816ab",
   "metadata": {},
   "outputs": [],
   "source": [
    "uniform_csv = \"/Users/kiyoshi/Desktop/jov_everything/24_survey/uniform_record.csv\"\n",
    "enrich_csv = \"/Users/kiyoshi/Desktop/jov_everything/24_survey/enrich_record.csv\"\n",
    "\n",
    "uniform = generate_per_frame_response(response_csv_path=uniform_csv)\n",
    "enrich = generate_per_frame_response(response_csv_path=enrich_csv)"
   ]
  },
  {
   "cell_type": "code",
   "execution_count": 45,
   "id": "fbf2ae6b",
   "metadata": {},
   "outputs": [
    {
     "data": {
      "text/html": [
       "<div>\n",
       "<style scoped>\n",
       "    .dataframe tbody tr th:only-of-type {\n",
       "        vertical-align: middle;\n",
       "    }\n",
       "\n",
       "    .dataframe tbody tr th {\n",
       "        vertical-align: top;\n",
       "    }\n",
       "\n",
       "    .dataframe thead th {\n",
       "        text-align: right;\n",
       "    }\n",
       "</style>\n",
       "<table border=\"1\" class=\"dataframe\">\n",
       "  <thead>\n",
       "    <tr style=\"text-align: right;\">\n",
       "      <th></th>\n",
       "      <th>frame_index</th>\n",
       "      <th>count</th>\n",
       "      <th>person_b_counts</th>\n",
       "      <th>ResponseTime</th>\n",
       "      <th>prob_b</th>\n",
       "      <th>avg_rt</th>\n",
       "    </tr>\n",
       "  </thead>\n",
       "  <tbody>\n",
       "    <tr>\n",
       "      <th>0</th>\n",
       "      <td>38</td>\n",
       "      <td>24</td>\n",
       "      <td>1</td>\n",
       "      <td>58.962</td>\n",
       "      <td>0.041667</td>\n",
       "      <td>0.002457</td>\n",
       "    </tr>\n",
       "    <tr>\n",
       "      <th>1</th>\n",
       "      <td>40</td>\n",
       "      <td>24</td>\n",
       "      <td>1</td>\n",
       "      <td>80.497</td>\n",
       "      <td>0.041667</td>\n",
       "      <td>0.003354</td>\n",
       "    </tr>\n",
       "    <tr>\n",
       "      <th>2</th>\n",
       "      <td>42</td>\n",
       "      <td>24</td>\n",
       "      <td>1</td>\n",
       "      <td>81.008</td>\n",
       "      <td>0.041667</td>\n",
       "      <td>0.003375</td>\n",
       "    </tr>\n",
       "    <tr>\n",
       "      <th>3</th>\n",
       "      <td>45</td>\n",
       "      <td>24</td>\n",
       "      <td>2</td>\n",
       "      <td>85.084</td>\n",
       "      <td>0.083333</td>\n",
       "      <td>0.003545</td>\n",
       "    </tr>\n",
       "    <tr>\n",
       "      <th>4</th>\n",
       "      <td>47</td>\n",
       "      <td>24</td>\n",
       "      <td>2</td>\n",
       "      <td>77.250</td>\n",
       "      <td>0.083333</td>\n",
       "      <td>0.003219</td>\n",
       "    </tr>\n",
       "    <tr>\n",
       "      <th>5</th>\n",
       "      <td>50</td>\n",
       "      <td>24</td>\n",
       "      <td>5</td>\n",
       "      <td>113.916</td>\n",
       "      <td>0.208333</td>\n",
       "      <td>0.004746</td>\n",
       "    </tr>\n",
       "    <tr>\n",
       "      <th>6</th>\n",
       "      <td>52</td>\n",
       "      <td>24</td>\n",
       "      <td>10</td>\n",
       "      <td>102.445</td>\n",
       "      <td>0.416667</td>\n",
       "      <td>0.004269</td>\n",
       "    </tr>\n",
       "    <tr>\n",
       "      <th>7</th>\n",
       "      <td>55</td>\n",
       "      <td>24</td>\n",
       "      <td>10</td>\n",
       "      <td>96.491</td>\n",
       "      <td>0.416667</td>\n",
       "      <td>0.004020</td>\n",
       "    </tr>\n",
       "    <tr>\n",
       "      <th>8</th>\n",
       "      <td>57</td>\n",
       "      <td>24</td>\n",
       "      <td>9</td>\n",
       "      <td>106.114</td>\n",
       "      <td>0.375000</td>\n",
       "      <td>0.004421</td>\n",
       "    </tr>\n",
       "    <tr>\n",
       "      <th>9</th>\n",
       "      <td>60</td>\n",
       "      <td>24</td>\n",
       "      <td>8</td>\n",
       "      <td>90.788</td>\n",
       "      <td>0.333333</td>\n",
       "      <td>0.003783</td>\n",
       "    </tr>\n",
       "    <tr>\n",
       "      <th>10</th>\n",
       "      <td>62</td>\n",
       "      <td>24</td>\n",
       "      <td>13</td>\n",
       "      <td>129.184</td>\n",
       "      <td>0.541667</td>\n",
       "      <td>0.005383</td>\n",
       "    </tr>\n",
       "    <tr>\n",
       "      <th>11</th>\n",
       "      <td>65</td>\n",
       "      <td>24</td>\n",
       "      <td>17</td>\n",
       "      <td>137.367</td>\n",
       "      <td>0.708333</td>\n",
       "      <td>0.005724</td>\n",
       "    </tr>\n",
       "    <tr>\n",
       "      <th>12</th>\n",
       "      <td>67</td>\n",
       "      <td>24</td>\n",
       "      <td>19</td>\n",
       "      <td>111.409</td>\n",
       "      <td>0.791667</td>\n",
       "      <td>0.004642</td>\n",
       "    </tr>\n",
       "    <tr>\n",
       "      <th>13</th>\n",
       "      <td>70</td>\n",
       "      <td>24</td>\n",
       "      <td>19</td>\n",
       "      <td>87.233</td>\n",
       "      <td>0.791667</td>\n",
       "      <td>0.003635</td>\n",
       "    </tr>\n",
       "    <tr>\n",
       "      <th>14</th>\n",
       "      <td>72</td>\n",
       "      <td>24</td>\n",
       "      <td>20</td>\n",
       "      <td>101.637</td>\n",
       "      <td>0.833333</td>\n",
       "      <td>0.004235</td>\n",
       "    </tr>\n",
       "    <tr>\n",
       "      <th>15</th>\n",
       "      <td>74</td>\n",
       "      <td>24</td>\n",
       "      <td>24</td>\n",
       "      <td>82.352</td>\n",
       "      <td>1.000000</td>\n",
       "      <td>0.003431</td>\n",
       "    </tr>\n",
       "    <tr>\n",
       "      <th>16</th>\n",
       "      <td>76</td>\n",
       "      <td>24</td>\n",
       "      <td>23</td>\n",
       "      <td>106.460</td>\n",
       "      <td>0.958333</td>\n",
       "      <td>0.004436</td>\n",
       "    </tr>\n",
       "    <tr>\n",
       "      <th>17</th>\n",
       "      <td>78</td>\n",
       "      <td>24</td>\n",
       "      <td>21</td>\n",
       "      <td>70.664</td>\n",
       "      <td>0.875000</td>\n",
       "      <td>0.002944</td>\n",
       "    </tr>\n",
       "    <tr>\n",
       "      <th>18</th>\n",
       "      <td>80</td>\n",
       "      <td>24</td>\n",
       "      <td>24</td>\n",
       "      <td>71.920</td>\n",
       "      <td>1.000000</td>\n",
       "      <td>0.002997</td>\n",
       "    </tr>\n",
       "  </tbody>\n",
       "</table>\n",
       "</div>"
      ],
      "text/plain": [
       "    frame_index  count  person_b_counts  ResponseTime    prob_b    avg_rt\n",
       "0            38     24                1        58.962  0.041667  0.002457\n",
       "1            40     24                1        80.497  0.041667  0.003354\n",
       "2            42     24                1        81.008  0.041667  0.003375\n",
       "3            45     24                2        85.084  0.083333  0.003545\n",
       "4            47     24                2        77.250  0.083333  0.003219\n",
       "5            50     24                5       113.916  0.208333  0.004746\n",
       "6            52     24               10       102.445  0.416667  0.004269\n",
       "7            55     24               10        96.491  0.416667  0.004020\n",
       "8            57     24                9       106.114  0.375000  0.004421\n",
       "9            60     24                8        90.788  0.333333  0.003783\n",
       "10           62     24               13       129.184  0.541667  0.005383\n",
       "11           65     24               17       137.367  0.708333  0.005724\n",
       "12           67     24               19       111.409  0.791667  0.004642\n",
       "13           70     24               19        87.233  0.791667  0.003635\n",
       "14           72     24               20       101.637  0.833333  0.004235\n",
       "15           74     24               24        82.352  1.000000  0.003431\n",
       "16           76     24               23       106.460  0.958333  0.004436\n",
       "17           78     24               21        70.664  0.875000  0.002944\n",
       "18           80     24               24        71.920  1.000000  0.002997"
      ]
     },
     "execution_count": 45,
     "metadata": {},
     "output_type": "execute_result"
    }
   ],
   "source": [
    "uniform"
   ]
  },
  {
   "cell_type": "code",
   "execution_count": 46,
   "id": "a9d520d6",
   "metadata": {},
   "outputs": [],
   "source": [
    "data_prob_uniform = uniform[[\"frame_index\", \"prob_b\"]]\n",
    "data_prob_uniform = data_prob_uniform.set_index('frame_index')"
   ]
  },
  {
   "cell_type": "code",
   "execution_count": 47,
   "id": "508efe32",
   "metadata": {},
   "outputs": [
    {
     "data": {
      "text/html": [
       "<div>\n",
       "<style scoped>\n",
       "    .dataframe tbody tr th:only-of-type {\n",
       "        vertical-align: middle;\n",
       "    }\n",
       "\n",
       "    .dataframe tbody tr th {\n",
       "        vertical-align: top;\n",
       "    }\n",
       "\n",
       "    .dataframe thead th {\n",
       "        text-align: right;\n",
       "    }\n",
       "</style>\n",
       "<table border=\"1\" class=\"dataframe\">\n",
       "  <thead>\n",
       "    <tr style=\"text-align: right;\">\n",
       "      <th></th>\n",
       "      <th>prob_b</th>\n",
       "    </tr>\n",
       "    <tr>\n",
       "      <th>frame_index</th>\n",
       "      <th></th>\n",
       "    </tr>\n",
       "  </thead>\n",
       "  <tbody>\n",
       "    <tr>\n",
       "      <th>38</th>\n",
       "      <td>0.041667</td>\n",
       "    </tr>\n",
       "    <tr>\n",
       "      <th>40</th>\n",
       "      <td>0.041667</td>\n",
       "    </tr>\n",
       "    <tr>\n",
       "      <th>42</th>\n",
       "      <td>0.041667</td>\n",
       "    </tr>\n",
       "    <tr>\n",
       "      <th>45</th>\n",
       "      <td>0.083333</td>\n",
       "    </tr>\n",
       "    <tr>\n",
       "      <th>47</th>\n",
       "      <td>0.083333</td>\n",
       "    </tr>\n",
       "    <tr>\n",
       "      <th>50</th>\n",
       "      <td>0.208333</td>\n",
       "    </tr>\n",
       "    <tr>\n",
       "      <th>52</th>\n",
       "      <td>0.416667</td>\n",
       "    </tr>\n",
       "    <tr>\n",
       "      <th>55</th>\n",
       "      <td>0.416667</td>\n",
       "    </tr>\n",
       "    <tr>\n",
       "      <th>57</th>\n",
       "      <td>0.375000</td>\n",
       "    </tr>\n",
       "    <tr>\n",
       "      <th>60</th>\n",
       "      <td>0.333333</td>\n",
       "    </tr>\n",
       "    <tr>\n",
       "      <th>62</th>\n",
       "      <td>0.541667</td>\n",
       "    </tr>\n",
       "    <tr>\n",
       "      <th>65</th>\n",
       "      <td>0.708333</td>\n",
       "    </tr>\n",
       "    <tr>\n",
       "      <th>67</th>\n",
       "      <td>0.791667</td>\n",
       "    </tr>\n",
       "    <tr>\n",
       "      <th>70</th>\n",
       "      <td>0.791667</td>\n",
       "    </tr>\n",
       "    <tr>\n",
       "      <th>72</th>\n",
       "      <td>0.833333</td>\n",
       "    </tr>\n",
       "    <tr>\n",
       "      <th>74</th>\n",
       "      <td>1.000000</td>\n",
       "    </tr>\n",
       "    <tr>\n",
       "      <th>76</th>\n",
       "      <td>0.958333</td>\n",
       "    </tr>\n",
       "    <tr>\n",
       "      <th>78</th>\n",
       "      <td>0.875000</td>\n",
       "    </tr>\n",
       "    <tr>\n",
       "      <th>80</th>\n",
       "      <td>1.000000</td>\n",
       "    </tr>\n",
       "  </tbody>\n",
       "</table>\n",
       "</div>"
      ],
      "text/plain": [
       "               prob_b\n",
       "frame_index          \n",
       "38           0.041667\n",
       "40           0.041667\n",
       "42           0.041667\n",
       "45           0.083333\n",
       "47           0.083333\n",
       "50           0.208333\n",
       "52           0.416667\n",
       "55           0.416667\n",
       "57           0.375000\n",
       "60           0.333333\n",
       "62           0.541667\n",
       "65           0.708333\n",
       "67           0.791667\n",
       "70           0.791667\n",
       "72           0.833333\n",
       "74           1.000000\n",
       "76           0.958333\n",
       "78           0.875000\n",
       "80           1.000000"
      ]
     },
     "execution_count": 47,
     "metadata": {},
     "output_type": "execute_result"
    }
   ],
   "source": [
    "data_prob_uniform"
   ]
  },
  {
   "cell_type": "code",
   "execution_count": 48,
   "id": "269d14b4",
   "metadata": {},
   "outputs": [],
   "source": [
    "data_prob_enrich = enrich[[\"frame_index\", \"prob_b\"]]\n",
    "data_prob_enrich = data_prob_enrich.set_index('frame_index')"
   ]
  },
  {
   "cell_type": "code",
   "execution_count": 49,
   "id": "ddec544b",
   "metadata": {},
   "outputs": [
    {
     "data": {
      "text/html": [
       "<div>\n",
       "<style scoped>\n",
       "    .dataframe tbody tr th:only-of-type {\n",
       "        vertical-align: middle;\n",
       "    }\n",
       "\n",
       "    .dataframe tbody tr th {\n",
       "        vertical-align: top;\n",
       "    }\n",
       "\n",
       "    .dataframe thead th {\n",
       "        text-align: right;\n",
       "    }\n",
       "</style>\n",
       "<table border=\"1\" class=\"dataframe\">\n",
       "  <thead>\n",
       "    <tr style=\"text-align: right;\">\n",
       "      <th></th>\n",
       "      <th>prob_b</th>\n",
       "    </tr>\n",
       "    <tr>\n",
       "      <th>frame_index</th>\n",
       "      <th></th>\n",
       "    </tr>\n",
       "  </thead>\n",
       "  <tbody>\n",
       "    <tr>\n",
       "      <th>36</th>\n",
       "      <td>0.194444</td>\n",
       "    </tr>\n",
       "    <tr>\n",
       "      <th>38</th>\n",
       "      <td>0.083333</td>\n",
       "    </tr>\n",
       "    <tr>\n",
       "      <th>40</th>\n",
       "      <td>0.111111</td>\n",
       "    </tr>\n",
       "    <tr>\n",
       "      <th>42</th>\n",
       "      <td>0.138889</td>\n",
       "    </tr>\n",
       "    <tr>\n",
       "      <th>45</th>\n",
       "      <td>0.222222</td>\n",
       "    </tr>\n",
       "    <tr>\n",
       "      <th>47</th>\n",
       "      <td>0.250000</td>\n",
       "    </tr>\n",
       "    <tr>\n",
       "      <th>50</th>\n",
       "      <td>0.305556</td>\n",
       "    </tr>\n",
       "    <tr>\n",
       "      <th>52</th>\n",
       "      <td>0.333333</td>\n",
       "    </tr>\n",
       "    <tr>\n",
       "      <th>55</th>\n",
       "      <td>0.694444</td>\n",
       "    </tr>\n",
       "    <tr>\n",
       "      <th>57</th>\n",
       "      <td>0.611111</td>\n",
       "    </tr>\n",
       "    <tr>\n",
       "      <th>60</th>\n",
       "      <td>0.833333</td>\n",
       "    </tr>\n",
       "    <tr>\n",
       "      <th>62</th>\n",
       "      <td>0.694444</td>\n",
       "    </tr>\n",
       "    <tr>\n",
       "      <th>65</th>\n",
       "      <td>0.833333</td>\n",
       "    </tr>\n",
       "    <tr>\n",
       "      <th>67</th>\n",
       "      <td>0.944444</td>\n",
       "    </tr>\n",
       "    <tr>\n",
       "      <th>70</th>\n",
       "      <td>0.861111</td>\n",
       "    </tr>\n",
       "    <tr>\n",
       "      <th>72</th>\n",
       "      <td>0.916667</td>\n",
       "    </tr>\n",
       "    <tr>\n",
       "      <th>74</th>\n",
       "      <td>0.972222</td>\n",
       "    </tr>\n",
       "    <tr>\n",
       "      <th>76</th>\n",
       "      <td>0.944444</td>\n",
       "    </tr>\n",
       "    <tr>\n",
       "      <th>78</th>\n",
       "      <td>0.972222</td>\n",
       "    </tr>\n",
       "    <tr>\n",
       "      <th>80</th>\n",
       "      <td>0.972222</td>\n",
       "    </tr>\n",
       "  </tbody>\n",
       "</table>\n",
       "</div>"
      ],
      "text/plain": [
       "               prob_b\n",
       "frame_index          \n",
       "36           0.194444\n",
       "38           0.083333\n",
       "40           0.111111\n",
       "42           0.138889\n",
       "45           0.222222\n",
       "47           0.250000\n",
       "50           0.305556\n",
       "52           0.333333\n",
       "55           0.694444\n",
       "57           0.611111\n",
       "60           0.833333\n",
       "62           0.694444\n",
       "65           0.833333\n",
       "67           0.944444\n",
       "70           0.861111\n",
       "72           0.916667\n",
       "74           0.972222\n",
       "76           0.944444\n",
       "78           0.972222\n",
       "80           0.972222"
      ]
     },
     "execution_count": 49,
     "metadata": {},
     "output_type": "execute_result"
    }
   ],
   "source": [
    "data_prob_enrich"
   ]
  },
  {
   "cell_type": "code",
   "execution_count": 50,
   "id": "96a432f7",
   "metadata": {},
   "outputs": [],
   "source": [
    "data_prob_uniform.columns = [\"uniform\"]\n",
    "data_prob_enrich.columns = [\"enrich\"]"
   ]
  },
  {
   "cell_type": "code",
   "execution_count": 51,
   "id": "dbae2668",
   "metadata": {},
   "outputs": [],
   "source": [
    "all_data = data_prob_uniform.join(data_prob_enrich)"
   ]
  },
  {
   "cell_type": "code",
   "execution_count": 52,
   "id": "263ca671",
   "metadata": {},
   "outputs": [
    {
     "data": {
      "text/html": [
       "<div>\n",
       "<style scoped>\n",
       "    .dataframe tbody tr th:only-of-type {\n",
       "        vertical-align: middle;\n",
       "    }\n",
       "\n",
       "    .dataframe tbody tr th {\n",
       "        vertical-align: top;\n",
       "    }\n",
       "\n",
       "    .dataframe thead th {\n",
       "        text-align: right;\n",
       "    }\n",
       "</style>\n",
       "<table border=\"1\" class=\"dataframe\">\n",
       "  <thead>\n",
       "    <tr style=\"text-align: right;\">\n",
       "      <th></th>\n",
       "      <th>uniform</th>\n",
       "      <th>enrich</th>\n",
       "    </tr>\n",
       "    <tr>\n",
       "      <th>frame_index</th>\n",
       "      <th></th>\n",
       "      <th></th>\n",
       "    </tr>\n",
       "  </thead>\n",
       "  <tbody>\n",
       "    <tr>\n",
       "      <th>38</th>\n",
       "      <td>0.041667</td>\n",
       "      <td>0.083333</td>\n",
       "    </tr>\n",
       "    <tr>\n",
       "      <th>40</th>\n",
       "      <td>0.041667</td>\n",
       "      <td>0.111111</td>\n",
       "    </tr>\n",
       "    <tr>\n",
       "      <th>42</th>\n",
       "      <td>0.041667</td>\n",
       "      <td>0.138889</td>\n",
       "    </tr>\n",
       "    <tr>\n",
       "      <th>45</th>\n",
       "      <td>0.083333</td>\n",
       "      <td>0.222222</td>\n",
       "    </tr>\n",
       "    <tr>\n",
       "      <th>47</th>\n",
       "      <td>0.083333</td>\n",
       "      <td>0.250000</td>\n",
       "    </tr>\n",
       "    <tr>\n",
       "      <th>50</th>\n",
       "      <td>0.208333</td>\n",
       "      <td>0.305556</td>\n",
       "    </tr>\n",
       "    <tr>\n",
       "      <th>52</th>\n",
       "      <td>0.416667</td>\n",
       "      <td>0.333333</td>\n",
       "    </tr>\n",
       "    <tr>\n",
       "      <th>55</th>\n",
       "      <td>0.416667</td>\n",
       "      <td>0.694444</td>\n",
       "    </tr>\n",
       "    <tr>\n",
       "      <th>57</th>\n",
       "      <td>0.375000</td>\n",
       "      <td>0.611111</td>\n",
       "    </tr>\n",
       "    <tr>\n",
       "      <th>60</th>\n",
       "      <td>0.333333</td>\n",
       "      <td>0.833333</td>\n",
       "    </tr>\n",
       "    <tr>\n",
       "      <th>62</th>\n",
       "      <td>0.541667</td>\n",
       "      <td>0.694444</td>\n",
       "    </tr>\n",
       "    <tr>\n",
       "      <th>65</th>\n",
       "      <td>0.708333</td>\n",
       "      <td>0.833333</td>\n",
       "    </tr>\n",
       "    <tr>\n",
       "      <th>67</th>\n",
       "      <td>0.791667</td>\n",
       "      <td>0.944444</td>\n",
       "    </tr>\n",
       "    <tr>\n",
       "      <th>70</th>\n",
       "      <td>0.791667</td>\n",
       "      <td>0.861111</td>\n",
       "    </tr>\n",
       "    <tr>\n",
       "      <th>72</th>\n",
       "      <td>0.833333</td>\n",
       "      <td>0.916667</td>\n",
       "    </tr>\n",
       "    <tr>\n",
       "      <th>74</th>\n",
       "      <td>1.000000</td>\n",
       "      <td>0.972222</td>\n",
       "    </tr>\n",
       "    <tr>\n",
       "      <th>76</th>\n",
       "      <td>0.958333</td>\n",
       "      <td>0.944444</td>\n",
       "    </tr>\n",
       "    <tr>\n",
       "      <th>78</th>\n",
       "      <td>0.875000</td>\n",
       "      <td>0.972222</td>\n",
       "    </tr>\n",
       "    <tr>\n",
       "      <th>80</th>\n",
       "      <td>1.000000</td>\n",
       "      <td>0.972222</td>\n",
       "    </tr>\n",
       "  </tbody>\n",
       "</table>\n",
       "</div>"
      ],
      "text/plain": [
       "              uniform    enrich\n",
       "frame_index                    \n",
       "38           0.041667  0.083333\n",
       "40           0.041667  0.111111\n",
       "42           0.041667  0.138889\n",
       "45           0.083333  0.222222\n",
       "47           0.083333  0.250000\n",
       "50           0.208333  0.305556\n",
       "52           0.416667  0.333333\n",
       "55           0.416667  0.694444\n",
       "57           0.375000  0.611111\n",
       "60           0.333333  0.833333\n",
       "62           0.541667  0.694444\n",
       "65           0.708333  0.833333\n",
       "67           0.791667  0.944444\n",
       "70           0.791667  0.861111\n",
       "72           0.833333  0.916667\n",
       "74           1.000000  0.972222\n",
       "76           0.958333  0.944444\n",
       "78           0.875000  0.972222\n",
       "80           1.000000  0.972222"
      ]
     },
     "execution_count": 52,
     "metadata": {},
     "output_type": "execute_result"
    }
   ],
   "source": [
    "all_data"
   ]
  },
  {
   "cell_type": "code",
   "execution_count": 53,
   "id": "74d5d420",
   "metadata": {},
   "outputs": [
    {
     "data": {
      "text/plain": [
       "<AxesSubplot:xlabel='frame_index'>"
      ]
     },
     "execution_count": 53,
     "metadata": {},
     "output_type": "execute_result"
    },
    {
     "data": {
      "image/png": "[encoded data removed]",
      "text/plain": [
       "<Figure size 432x288 with 1 Axes>"
      ]
     },
     "metadata": {
      "needs_background": "light"
     },
     "output_type": "display_data"
    }
   ],
   "source": [
    "all_data.plot.bar()"
   ]
  },
  {
   "cell_type": "code",
   "execution_count": 54,
   "id": "cd60299b",
   "metadata": {},
   "outputs": [
    {
     "data": {
      "text/plain": [
       "<AxesSubplot:xlabel='frame_index'>"
      ]
     },
     "execution_count": 54,
     "metadata": {},
     "output_type": "execute_result"
    },
    {
     "data": {
      "image/png": "[encoded data removed]",
      "text/plain": [
       "<Figure size 432x288 with 1 Axes>"
      ]
     },
     "metadata": {
      "needs_background": "light"
     },
     "output_type": "display_data"
    }
   ],
   "source": [
    "all_data.plot()"
   ]
  },
  {
   "cell_type": "markdown",
   "id": "94cfd577",
   "metadata": {},
   "source": [
    "# V1 - Data analysis 03/17/2024 : look at survey one (1-12) and two (12-24)"
   ]
  },
  {
   "cell_type": "code",
   "execution_count": 19,
   "id": "97c71d70",
   "metadata": {},
   "outputs": [],
   "source": [
    "raw_data = pd.read_csv(raw_csv_save_path)"
   ]
  },
  {
   "cell_type": "code",
   "execution_count": 20,
   "id": "2d72bcfd",
   "metadata": {},
   "outputs": [],
   "source": [
    "# Separate data for tail size 5 and tail size 10\n",
    "tail_size_5_uniform_id = [\"jafyoxyp\", \"cpjqwncf\", \"tpcmympo\"]\n",
    "tail_size_5_enrich_id = [\"coyatbri\", \"mkzyngfl\", \"qtcbfunj\", \"rxvkdfak\", \"fqnoxxhg\"]\n",
    "\n",
    "tail_size_10_uniform_id = [\"iewokwah\", \"xbnwovwi\", \"jlflqtkp\"]\n",
    "tail_size_10_enrich_id = [\"odpavqyq\", \"qevypgjf\", \"jmdnxpau\"]"
   ]
  },
  {
   "cell_type": "code",
   "execution_count": 21,
   "id": "d2df004b",
   "metadata": {},
   "outputs": [],
   "source": [
    "uniform_5_record = raw_data.loc[raw_data['AssignmentId'].isin(tail_size_5_uniform_id)]\n",
    "enrich__5_record = raw_data.loc[raw_data['AssignmentId'].isin(tail_size_5_enrich_id)]\n",
    "\n",
    "uniform_10_record = raw_data.loc[raw_data['AssignmentId'].isin(tail_size_10_uniform_id)]\n",
    "enrich_10_record = raw_data.loc[raw_data['AssignmentId'].isin(tail_size_10_enrich_id)]"
   ]
  },
  {
   "cell_type": "code",
   "execution_count": 22,
   "id": "149582e8",
   "metadata": {},
   "outputs": [],
   "source": [
    "def add_test_img_name(df):\n",
    "    df['test_img_name'] = df.test_img.str. \\\n",
    "    split('/').str[-1].str.split(\"_\").str[-1].str.split(\".\").str[0]\n",
    "\n",
    "    # Only take the columns we need\n",
    "    df = df[[\"worker_response\", \"test_img_name\", \"ResponseTime\"]]\n",
    "    df[\"test_img_name\"] = df[\"test_img_name\"].astype(int)\n",
    "    df = df.sort_values(by=[\"test_img_name\"])\n",
    "    df[\"ResponseTime\"] = df[\"ResponseTime\"].astype(int)\n",
    "    df[\"ResponseTime\"] = df[\"ResponseTime\"]/1000\n",
    "    \n",
    "    return df"
   ]
  },
  {
   "cell_type": "code",
   "execution_count": 23,
   "id": "62d10b87",
   "metadata": {},
   "outputs": [],
   "source": [
    "uniform_5 = add_test_img_name(uniform_5_record)\n",
    "enrich_5 = add_test_img_name(enrich__5_record)\n",
    "\n",
    "uniform_10 = add_test_img_name(uniform_10_record)\n",
    "enrich_10 = add_test_img_name(enrich_10_record)"
   ]
  },
  {
   "cell_type": "code",
   "execution_count": 30,
   "id": "201e3d1f",
   "metadata": {},
   "outputs": [
    {
     "data": {
      "text/html": [
       "<div>\n",
       "<style scoped>\n",
       "    .dataframe tbody tr th:only-of-type {\n",
       "        vertical-align: middle;\n",
       "    }\n",
       "\n",
       "    .dataframe tbody tr th {\n",
       "        vertical-align: top;\n",
       "    }\n",
       "\n",
       "    .dataframe thead th {\n",
       "        text-align: right;\n",
       "    }\n",
       "</style>\n",
       "<table border=\"1\" class=\"dataframe\">\n",
       "  <thead>\n",
       "    <tr style=\"text-align: right;\">\n",
       "      <th></th>\n",
       "      <th>worker_response</th>\n",
       "      <th>test_img_name</th>\n",
       "      <th>ResponseTime</th>\n",
       "    </tr>\n",
       "  </thead>\n",
       "  <tbody>\n",
       "    <tr>\n",
       "      <th>1707</th>\n",
       "      <td>1</td>\n",
       "      <td>36</td>\n",
       "      <td>1.154</td>\n",
       "    </tr>\n",
       "    <tr>\n",
       "      <th>1682</th>\n",
       "      <td>1</td>\n",
       "      <td>36</td>\n",
       "      <td>1.079</td>\n",
       "    </tr>\n",
       "    <tr>\n",
       "      <th>34</th>\n",
       "      <td>1</td>\n",
       "      <td>36</td>\n",
       "      <td>5.056</td>\n",
       "    </tr>\n",
       "    <tr>\n",
       "      <th>161</th>\n",
       "      <td>1</td>\n",
       "      <td>36</td>\n",
       "      <td>1.574</td>\n",
       "    </tr>\n",
       "    <tr>\n",
       "      <th>1700</th>\n",
       "      <td>1</td>\n",
       "      <td>36</td>\n",
       "      <td>1.784</td>\n",
       "    </tr>\n",
       "  </tbody>\n",
       "</table>\n",
       "</div>"
      ],
      "text/plain": [
       "     worker_response  test_img_name  ResponseTime\n",
       "1707               1             36         1.154\n",
       "1682               1             36         1.079\n",
       "34                 1             36         5.056\n",
       "161                1             36         1.574\n",
       "1700               1             36         1.784"
      ]
     },
     "execution_count": 30,
     "metadata": {},
     "output_type": "execute_result"
    }
   ],
   "source": [
    "uniform_5.head()"
   ]
  },
  {
   "cell_type": "code",
   "execution_count": 55,
   "id": "ad1c008d",
   "metadata": {},
   "outputs": [],
   "source": [
    "def generate_per_frame_response(df):\n",
    "    data = df\n",
    "    \n",
    "    # Take the columns we need\n",
    "    data_selected = data[[\"worker_response\", \"test_img_name\", \"ResponseTime\"]]\n",
    "    data_selected.columns = [\"worker_response\", \"frame_index\", \"ResponseTime\"]\n",
    "    \n",
    "    data_final = data_selected\n",
    "\n",
    "    \n",
    "    # Get the avg RT for each frame\n",
    "    rt_frame = data_final[[\"frame_index\", \"ResponseTime\"]]\n",
    "    rt_frame = rt_frame.groupby([\"frame_index\"]).sum()\n",
    "    #print(rt_frame)\n",
    "    \n",
    "    # Group by frame index: \n",
    "    # response: get counts\n",
    "    grouped = data_final.groupby(['frame_index','worker_response']).worker_response. \\\n",
    "                            agg('count').to_frame('count').reset_index()\n",
    "    #print(grouped.head(10))\n",
    "    #print(grouped)\n",
    "    \n",
    "    # responses: get total counts\n",
    "    grouped_for_counts = grouped[['frame_index','count']]\n",
    "    total_counts = grouped_for_counts.groupby(['frame_index']).sum()\n",
    "    \n",
    "    # Convert user response to int\n",
    "    grouped[\"worker_response\"] = grouped[\"worker_response\"].astype(int)\n",
    "    \n",
    "    # responses: select the counts where worker response is 2\n",
    "    worker_response_selected = grouped[grouped['worker_response'] == 2]\n",
    "    worker_response_selected.columns = [\"frame_index\", \"worker_response\", \"person_b_counts\"]\n",
    "    worker_response_selected = worker_response_selected[[\"frame_index\", \"worker_response\", \"person_b_counts\"]]\n",
    "    \n",
    "    person_b_counts = worker_response_selected[[\"frame_index\", \"person_b_counts\"]]\n",
    "    \n",
    "    # responses: merge two frames\n",
    "    result_df = pd.merge(total_counts, person_b_counts, on=\"frame_index\")\n",
    "    result_df = pd.merge(result_df, rt_frame, on=\"frame_index\")\n",
    "    \n",
    "    # response: convert to probability of choosing person B as the answer\n",
    "    result_df[\"prob_b\"] = result_df[\"person_b_counts\"]/result_df[\"count\"]\n",
    "    result_df[\"avg_rt\"] = result_df[\"ResponseTime\"]/(result_df[\"count\"]*1000)\n",
    "    \n",
    "    return result_df"
   ]
  },
  {
   "cell_type": "code",
   "execution_count": 56,
   "id": "cee11e7b",
   "metadata": {},
   "outputs": [],
   "source": [
    "result_uniform_5 = generate_per_frame_response(uniform_5)\n",
    "result_enrich_5 = generate_per_frame_response(enrich_5)\n",
    "\n",
    "result_uniform_10 = generate_per_frame_response(uniform_10)\n",
    "result_enrich_10 = generate_per_frame_response(enrich_10)"
   ]
  },
  {
   "cell_type": "code",
   "execution_count": 60,
   "id": "613ce5a7",
   "metadata": {},
   "outputs": [],
   "source": [
    "def plot_curves(uniform, enrich):\n",
    "    data_prob_uniform = uniform[[\"frame_index\", \"prob_b\"]]\n",
    "    data_prob_uniform = data_prob_uniform.set_index('frame_index')\n",
    "    \n",
    "    data_prob_enrich = enrich[[\"frame_index\", \"prob_b\"]]\n",
    "    data_prob_enrich = data_prob_enrich.set_index('frame_index')\n",
    "    \n",
    "    data_prob_uniform.columns = [\"uniform\"]\n",
    "    data_prob_enrich.columns = [\"enrich\"]\n",
    "    \n",
    "    all_data = data_prob_uniform.join(data_prob_enrich)\n",
    "    \n",
    "    print(all_data)\n",
    "    \n",
    "    all_data.plot.bar()\n",
    "    all_data.plot()\n",
    "    plt.show()"
   ]
  },
  {
   "cell_type": "code",
   "execution_count": 61,
   "id": "4fdaec01",
   "metadata": {},
   "outputs": [
    {
     "name": "stdout",
     "output_type": "stream",
     "text": [
      "              uniform    enrich\n",
      "frame_index                    \n",
      "38           0.111111       NaN\n",
      "40           0.055556  0.033333\n",
      "45           0.111111  0.166667\n",
      "47           0.222222  0.100000\n",
      "50           0.388889  0.333333\n",
      "52           0.555556  0.233333\n",
      "55           0.388889  0.533333\n",
      "57           0.444444  0.500000\n",
      "60           0.500000  0.700000\n",
      "62           0.611111  0.766667\n",
      "65           0.888889  0.766667\n",
      "67           0.833333  0.966667\n",
      "70           0.833333  0.833333\n",
      "72           0.888889  0.966667\n",
      "74           1.000000  0.966667\n",
      "76           0.944444  0.966667\n",
      "78           0.888889  1.000000\n",
      "80           1.000000  0.966667\n"
     ]
    },
    {
     "data": {
      "image/png": "[encoded data removed]",
      "text/plain": [
       "<Figure size 432x288 with 1 Axes>"
      ]
     },
     "metadata": {
      "needs_background": "light"
     },
     "output_type": "display_data"
    },
    {
     "data": {
      "image/png": "[encoded data removed]",
      "text/plain": [
       "<Figure size 432x288 with 1 Axes>"
      ]
     },
     "metadata": {
      "needs_background": "light"
     },
     "output_type": "display_data"
    }
   ],
   "source": [
    "plot_curves(result_uniform_5, result_enrich_5)"
   ]
  },
  {
   "cell_type": "code",
   "execution_count": 62,
   "id": "d7ddc9de",
   "metadata": {},
   "outputs": [
    {
     "name": "stdout",
     "output_type": "stream",
     "text": [
      "              uniform    enrich\n",
      "frame_index                    \n",
      "40           0.055556  0.166667\n",
      "42           0.111111  0.166667\n",
      "45           0.055556  0.222222\n",
      "47           0.055556  0.333333\n",
      "50           0.222222  0.333333\n",
      "52           0.388889  0.444444\n",
      "55           0.555556  0.833333\n",
      "57           0.500000  0.666667\n",
      "60           0.500000  0.777778\n",
      "62           0.666667  0.611111\n",
      "65           0.722222  0.833333\n",
      "67           0.777778  0.888889\n",
      "70           0.833333  0.833333\n",
      "72           0.833333  0.833333\n",
      "74           1.000000  0.944444\n",
      "76           1.000000  0.888889\n",
      "78           0.944444  0.944444\n",
      "80           1.000000  0.944444\n"
     ]
    },
    {
     "data": {
      "image/png": "[encoded data removed]",
      "text/plain": [
       "<Figure size 432x288 with 1 Axes>"
      ]
     },
     "metadata": {
      "needs_background": "light"
     },
     "output_type": "display_data"
    },
    {
     "data": {
      "image/png": "[encoded data removed]",
      "text/plain": [
       "<Figure size 432x288 with 1 Axes>"
      ]
     },
     "metadata": {
      "needs_background": "light"
     },
     "output_type": "display_data"
    }
   ],
   "source": [
    "plot_curves(result_uniform_10, result_enrich_10)"
   ]
  },
  {
   "cell_type": "code",
   "execution_count": null,
   "id": "eb224620",
   "metadata": {},
   "outputs": [],
   "source": []
  }
 ],
 "metadata": {
  "kernelspec": {
   "display_name": "Python 3 (ipykernel)",
   "language": "python",
   "name": "python3"
  },
  "language_info": {
   "codemirror_mode": {
    "name": "ipython",
    "version": 3
   },
   "file_extension": ".py",
   "mimetype": "text/x-python",
   "name": "python",
   "nbconvert_exporter": "python",
   "pygments_lexer": "ipython3",
   "version": "3.9.21"
  }
 },
 "nbformat": 4,
 "nbformat_minor": 5
}
