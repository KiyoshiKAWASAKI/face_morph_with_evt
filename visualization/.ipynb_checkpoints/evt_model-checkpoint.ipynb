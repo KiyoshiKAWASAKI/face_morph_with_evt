{
 "cells": [
  {
   "cell_type": "code",
   "execution_count": 17,
   "id": "8b2f49b6",
   "metadata": {},
   "outputs": [],
   "source": [
    "import os\n",
    "import numpy as np\n",
    "import matplotlib.pyplot as plt\n",
    "import pandas as pd\n",
    "from math import sqrt, exp, pi\n",
    "from sklearn.naive_bayes import GaussianNB\n",
    "from scipy.stats import weibull_min, weibull_max, genextreme\n",
    "import itertools\n",
    "import warnings\n",
    "warnings.filterwarnings('ignore')"
   ]
  },
  {
   "cell_type": "code",
   "execution_count": 18,
   "id": "51e25ccc",
   "metadata": {},
   "outputs": [],
   "source": [
    "nb_training = 5\n",
    "\n",
    "all_frames_enriched = [1, 2, 4, 5, 6, 36, 38, 40, 42, 45, 47, 50, 52, 55, 57, 60, 62, 65, 67, 70,\n",
    "                      72, 74, 76, 78, 80, 84, 86, 87, 100, 142]\n",
    "\n",
    "all_frames_uniform = [1, 2, 4, 5, 6, 36, 38, 40, 42, 45, 47, 50, 52, 55, 57, 60, 62, 65, 67, 70,\n",
    "                      72, 74, 76, 78, 80, 86, 101, 111, 121, 132]\n",
    "\n",
    "all_frames_long = [1, 2, 4, 5, 6, 36, 38, 40, 42, 45, 47, 50, 52, 55, 57, 60, 62, 65, 67, 70,\n",
    "                   72, 74, 76, 78, 80, 140, 141, 142]\n",
    "\n",
    "human_test_ind = [36, 38, 40, 42, 45, 47, 50, 52, 55, 57, 60, 62, 65, 67, 70, 72, 74, 76, 78, 80,]\n",
    "\n",
    "human_uniform_prob = [0.074786, 0.057692, 0.066239, 0.104701, 0.123932,\n",
    "                      0.188034, 0.258547, 0.388889, 0.485043, 0.602564,\n",
    "                      0.690171, 0.782051, 0.856838, 0.884615, 0.899573,\n",
    "                      0.931624, 0.938034, 0.955128, 0.950855, 0.972222]\n",
    "human_enrich_prob = [0.119048, 0.062907, 0.075922, 0.097614, 0.132321,\n",
    "                     0.201735, 0.288503, 0.392625, 0.496746, 0.613883,\n",
    "                     0.722343, 0.800434, 0.872017, 0.924078, 0.952278,\n",
    "                     0.952278, 0.958696, 0.976087, 0.973913, 0.980435]\n",
    "\n",
    "human_long_prob = [0.06572769953051644, 0.018823529411764704, 0.009411764705882352,\n",
    "                   0.011764705882352941, 0.02358490566037736, 0.030660377358490566,\n",
    "                   0.04245283018867924, 0.0589622641509434, 0.09669811320754718,\n",
    "                   0.12028301886792453, 0.18632075471698112, 0.2169811320754717,\n",
    "                   0.2783018867924528, 0.33490566037735847, 0.42924528301886794,\n",
    "                   0.5047169811320755, 0.5825471698113207, 0.6279620853080569,\n",
    "                   0.7156398104265402, 0.7535545023696683]"
   ]
  },
  {
   "cell_type": "code",
   "execution_count": 3,
   "id": "3958f5e4",
   "metadata": {},
   "outputs": [],
   "source": [
    "# Calculate the mean of a list of numbers\n",
    "def mean(numbers):\n",
    "    return sum(numbers)/float(len(numbers))\n",
    "\n",
    "\n",
    "\n",
    "\n",
    "# Calculate the standard deviation of a list of numbers\n",
    "def stdev(numbers):\n",
    "    avg = mean(numbers)\n",
    "    variance = sum([(x-avg)**2 for x in numbers]) / float(len(numbers)-1)\n",
    "    return sqrt(variance)\n"
   ]
  },
  {
   "cell_type": "code",
   "execution_count": 11,
   "id": "af27c5ee",
   "metadata": {},
   "outputs": [],
   "source": [
    "def evt_predict(data,\n",
    "                shape,\n",
    "                loc,\n",
    "                scale,\n",
    "                distance_choice,\n",
    "                distribution,\n",
    "                flip_distance):\n",
    "    \"\"\"\n",
    "\n",
    "    :param data:\n",
    "    :param shape:\n",
    "    :param loc:\n",
    "    :param scale:\n",
    "    :return:\n",
    "    \"\"\"\n",
    "    if distance_choice == \"to_A\":\n",
    "        sample_w_frame = data[[\"frame\", \"distance_to_A\"]]\n",
    "\n",
    "        if flip_distance:\n",
    "            max_value = data[\"distance_to_A\"].max()\n",
    "            sample_w_frame[\"distance_to_A\"] = max_value - sample_w_frame[\"distance_to_A\"]\n",
    "\n",
    "    else:\n",
    "        sample_w_frame = data[[\"frame\", \"distance_to_B\"]]\n",
    "\n",
    "        if flip_distance:\n",
    "            max_value = data[\"distance_to_B\"].max()\n",
    "            sample_w_frame[\"distance_to_B\"] = max_value - sample_w_frame[\"distance_to_B\"]\n",
    "\n",
    "    frames = sample_w_frame['frame'].unique()\n",
    "    # print(frames)\n",
    "\n",
    "    prob_dict = {}\n",
    "    prob_one_frame = []\n",
    "\n",
    "    for one_frame in frames:\n",
    "        frames = sample_w_frame.loc[sample_w_frame['frame'] == one_frame]\n",
    "\n",
    "        if distance_choice == \"to_A\":\n",
    "            dist = frames[\"distance_to_A\"].tolist()\n",
    "        else:\n",
    "            dist = frames[\"distance_to_B\"].tolist()\n",
    "            dist.reverse()\n",
    "\n",
    "        # print(one_frame, mean(dist))\n",
    "\n",
    "        for one_dist in dist:\n",
    "            # Always use CDF for weibull and reverse weibull\n",
    "            if distribution == \"weibull\":\n",
    "                prob = weibull_min.cdf(one_dist, shape, loc, scale)\n",
    "                # test_prob = weibull_min.cdf(100.0, shape, loc, scale)\n",
    "                # print(\"test\", test_prob)\n",
    "            elif distribution == \"reversed_weibull\":\n",
    "                prob = weibull_max.cdf(one_dist, shape, loc, scale)\n",
    "            else:\n",
    "                raise Exception('Distribution not implemented.')\n",
    "\n",
    "            prob_one_frame.append(prob)\n",
    "\n",
    "        prob_dict[one_frame] = mean(prob_one_frame)\n",
    "\n",
    "    return prob_dict"
   ]
  },
  {
   "cell_type": "code",
   "execution_count": 12,
   "id": "b41c59fd",
   "metadata": {},
   "outputs": [],
   "source": [
    "def evt_model(training_a_data_path,\n",
    "              training_b_data_path,\n",
    "              test_data_path,\n",
    "              tail_ratio,\n",
    "              distribution,\n",
    "              distance_choice,\n",
    "              sampling,\n",
    "              flip_distance,\n",
    "              params=None,\n",
    "              fit_curve=False):\n",
    "    \"\"\"\n",
    "\n",
    "    :return:\n",
    "    \"\"\"\n",
    "\n",
    "    # Load training data for class A and B, and testing data\n",
    "    training_data_a = pd.read_csv(training_a_data_path)\n",
    "    training_data_b = pd.read_csv(training_b_data_path)\n",
    "    test_data = pd.read_csv(test_data_path)\n",
    "\n",
    "    print(training_data_a.shape)\n",
    "    print(training_data_b.shape)\n",
    "\n",
    "    \"\"\"\n",
    "    We can choose to fit a distribution, currently choose between \"weibull\" and \"reversed_weibull\".\n",
    "    This can give estimates on the parameters: fit func returns shape, location and scale parameters.\n",
    "    But we can also do grid search and tune these parameters instead.\n",
    "    Currently we choose to do parameter search.\n",
    "\n",
    "    weibull: weibull_min. When data is bounded from below.\n",
    "    reversed weibull:weibull_max. When data is bounded from above.\n",
    "    \"\"\"\n",
    "    if fit_curve:\n",
    "        # We are not using this currently.\n",
    "        pass\n",
    "\n",
    "    else:\n",
    "        \"\"\"\n",
    "        Use the parameters for our testing samples.\n",
    "        Probability for each sample is produced by CDF func.\n",
    "        \"\"\"\n",
    "        shape_b = params[0]\n",
    "        scale_b = params[1]\n",
    "        loc_b = params[2]\n",
    "\n",
    "        prob_dict_a = evt_predict(data=training_data_a,\n",
    "                                  shape=shape_b,\n",
    "                                  loc=loc_b,\n",
    "                                  scale=scale_b,\n",
    "                                  distribution=distribution,\n",
    "                                  distance_choice=distance_choice,\n",
    "                                  flip_distance=flip_distance)\n",
    "\n",
    "        # EVT: calculate how many samples we will use based on tail size\n",
    "        nb_sample = int(tail_ratio * training_data_b.shape[0])\n",
    "        print(\"nb_sample for B: \", nb_sample)\n",
    "\n",
    "        # Take \"tail\" samples\n",
    "        if distance_choice == \"to_A\":\n",
    "            data_for_b = training_data_b[:nb_sample]\n",
    "        else:\n",
    "            data_for_b = training_data_b[-nb_sample:]\n",
    "            # data_for_b.reverse()\n",
    "\n",
    "        # EVT Uniform\n",
    "        if sampling == \"uniform\":\n",
    "            # Use only a part of the data to fit EVT\n",
    "            prob_dict_b = evt_predict(data=data_for_b,\n",
    "                                      shape=shape_b,\n",
    "                                      loc=loc_b,\n",
    "                                      scale=scale_b,\n",
    "                                      distribution=distribution,\n",
    "                                      distance_choice=distance_choice,\n",
    "                                      flip_distance=flip_distance)\n",
    "\n",
    "\n",
    "        # EVT enriched tail\n",
    "        elif sampling == \"enrich_tail\":\n",
    "            prob_dict_b = evt_predict(data=data_for_b,\n",
    "                                      shape=shape_b,\n",
    "                                      loc=loc_b,\n",
    "                                      scale=scale_b,\n",
    "                                      distance_choice=distance_choice,\n",
    "                                      distribution=distribution,\n",
    "                                      flip_distance=flip_distance)\n",
    "\n",
    "        # EVT long tail (new)\n",
    "        elif sampling == \"long_tail\":\n",
    "            prob_dict_b = evt_predict(data=data_for_b,\n",
    "                                      shape=shape_b,\n",
    "                                      loc=loc_b,\n",
    "                                      scale=scale_b,\n",
    "                                      distribution=distribution,\n",
    "                                      distance_choice=distance_choice,\n",
    "                                      flip_distance=flip_distance)\n",
    "\n",
    "        else:\n",
    "            print(\"Invalid sampling method.\")\n",
    "\n",
    "        prob_dict_test = evt_predict(data=test_data,\n",
    "                                     shape=shape_b,\n",
    "                                     loc=loc_b,\n",
    "                                     scale=scale_b,\n",
    "                                     distribution=distribution,\n",
    "                                     distance_choice=distance_choice,\n",
    "                                     flip_distance=flip_distance)\n",
    "\n",
    "        prob_dict = {**prob_dict_a, **prob_dict_b, **prob_dict_test}\n",
    "        prob_dict = dict(sorted(prob_dict.items()))\n",
    "\n",
    "    return prob_dict"
   ]
  },
  {
   "cell_type": "code",
   "execution_count": 41,
   "id": "36e95d09-6dab-4ba1-a2a6-e5b74a507e54",
   "metadata": {},
   "outputs": [],
   "source": [
    "def evt_final_prob(inclusion_prob,\n",
    "                  exclusion_prob):\n",
    "\n",
    "    \"\"\"\n",
    "    inclusion_prob: dictionary\n",
    "    exclusion_prob: dictionary\n",
    "    \"\"\"\n",
    "    result = {}\n",
    "    \n",
    "    # Iterate through the keys of the first dictionary\n",
    "    for key in inclusion_prob:\n",
    "        # Check if the key exists in both dictionaries\n",
    "        if key in exclusion_prob:\n",
    "            # Multiply the values and store them in the result dictionary\n",
    "            result[key] = inclusion_prob[key] * exclusion_prob[key]\n",
    "\n",
    "    result = {int(k): float(v) for k, v in result.items()}\n",
    "    \n",
    "    return result  "
   ]
  },
  {
   "cell_type": "code",
   "execution_count": 13,
   "id": "ef5c9cc8",
   "metadata": {},
   "outputs": [],
   "source": [
    "class_a_uniform_path = \"/Users/jh5442/Desktop/jov_everything/face_morph_v4_5_sets_modeling_with_3_samplings/\" \\\n",
    "                       \"sampled_data_0227/EVT/sample_a.csv\"\n",
    "\n",
    "\"\"\"\n",
    "Note:\n",
    "Both distance to A and B are sorted in increasing order.\n",
    "When fitting with distance to A, we can use it directly.\n",
    "When fitting with distance to B, we need to flip the distance values.\n",
    "\"\"\"\n",
    "class_b_uniform_dist_to_a_path = \"/Users/jh5442/Desktop/jov_everything/face_morph_v4_5_sets_modeling_with_3_samplings/\" \\\n",
    "                                    \"sampled_data_0227/EVT/sample_b_uniform_sort_by_distance_to_a.csv\"\n",
    "class_b_uniform_dist_to_b_path = \"/Users/jh5442/Desktop/jov_everything/face_morph_v4_5_sets_modeling_with_3_samplings/\" \\\n",
    "                                    \"sampled_data_0227/EVT/sample_b_uniform_sort_by_distance_to_b.csv\"\n",
    "\n",
    "class_b_enrich_dist_to_a_path = \"/Users/jh5442/Desktop/jov_everything/face_morph_v4_5_sets_modeling_with_3_samplings/\" \\\n",
    "                                \"sampled_data_0227/EVT/sample_b_enrich_sort_by_distance_to_a.csv\"\n",
    "class_b_enrich_dist_to_b_path = \"/Users/jh5442/Desktop/jov_everything/face_morph_v4_5_sets_modeling_with_3_samplings/\" \\\n",
    "                                \"sampled_data_0227/EVT/sample_b_enrich_sort_by_distance_to_b.csv\"\n",
    "\n",
    "class_b_long_dist_to_a_path = \"/Users/jh5442/Desktop/jov_everything/face_morph_v4_5_sets_modeling_with_3_samplings/\" \\\n",
    "                              \"sampled_data_0227/EVT/sample_b_long_sort_by_distance_to_a.csv\"\n",
    "class_b_long_dist_to_b_path = \"/Users/jh5442/Desktop/jov_everything/face_morph_v4_5_sets_modeling_with_3_samplings/\" \\\n",
    "                              \"sampled_data_0227/EVT/sample_b_long_sort_by_distance_to_b.csv\"\n",
    "\n",
    "test_sample_path = \"/Users/jh5442/Desktop/jov_everything/face_morph_v4_5_sets_modeling_with_3_samplings/\" \\\n",
    "                   \"sampled_data_0227/EVT/test_samples.csv\""
   ]
  },
  {
   "cell_type": "code",
   "execution_count": 14,
   "id": "bbc8f61e",
   "metadata": {},
   "outputs": [],
   "source": [
    "# EVT \n",
    "# shape_uniform = 9.0\n",
    "# scale_uniform = 0.2\n",
    "# location_uniform = 40\n",
    "\n",
    "# shape_enrich = 100.0\n",
    "# scale_enrich = 0.1\n",
    "# location_enrich = 39\n",
    "\n",
    "# tail_type = \"left\"\n",
    "tail_size = 0.5"
   ]
  },
  {
   "cell_type": "markdown",
   "id": "6bbb9e78-2782-4e65-bd90-8d86526bf776",
   "metadata": {},
   "source": [
    "# Uniform"
   ]
  },
  {
   "cell_type": "code",
   "execution_count": 115,
   "id": "76b8a333-9326-47b7-a62c-b36b9f6f1871",
   "metadata": {},
   "outputs": [
    {
     "name": "stdout",
     "output_type": "stream",
     "text": [
      "(405, 5)\n",
      "(405, 3)\n",
      "nb_sample for B:  202\n",
      "{1: 0.7233152369831217, 2: 0.7308527882879339, 4: 0.7340078319100938, 5: 0.7276480691085532, 6: 0.7338950460248933, 36: 0.7474864561123438, 38: 0.7689799206674276, 40: 0.7829864130223648, 42: 0.7940294564700296, 45: 0.8082371490108651, 47: 0.8215522997210511, 50: 0.8378853928172284, 52: 0.8521409693153521, 55: 0.8651389726884162, 57: 0.875595388753194, 60: 0.884603692659187, 62: 0.892507395285367, 65: 0.899535903055731, 67: 0.90608078850368, 70: 0.9123420692701014, 72: 0.9178206899407201, 74: 0.9226547670030306, 76: 0.9269517243917511, 78: 0.9307963704763959, 80: 0.9342565519525761, 86: 0.9078415163105774, 101: 0.9839247013016984, 111: 0.9893270557822752, 121: 0.9899062077940897}\n"
     ]
    }
   ],
   "source": [
    "uniform_inclusion_param_list = [\"reversed_weibull\", \"to_B\", True, [0.9, 1.0, 15]]\n",
    "uniform_inclusion = evt_model(training_a_data_path=class_a_uniform_path,\n",
    "                                  training_b_data_path=class_b_uniform_dist_to_b_path,\n",
    "                                  test_data_path=test_sample_path,\n",
    "                                  tail_ratio=tail_size,\n",
    "                                  sampling=\"uniform\",\n",
    "                                  distribution=uniform_inclusion_param_list[0],\n",
    "                                  distance_choice=uniform_inclusion_param_list[1],\n",
    "                                  flip_distance=uniform_inclusion_param_list[2],\n",
    "                                  params=uniform_inclusion_param_list[3])\n",
    "evt_uniform_inclusion = {int(k): float(v) for k, v in uniform_inclusion.items()}\n",
    "\n",
    "print(evt_uniform_inclusion)"
   ]
  },
  {
   "cell_type": "code",
   "execution_count": null,
   "id": "375622b8-da10-4f36-a1cc-1a45cdb873c9",
   "metadata": {},
   "outputs": [],
   "source": []
  },
  {
   "cell_type": "code",
   "execution_count": 116,
   "id": "66c6f5f2-f946-4d6b-b7ce-13a61042a78a",
   "metadata": {},
   "outputs": [
    {
     "name": "stdout",
     "output_type": "stream",
     "text": [
      "(405, 5)\n",
      "(405, 3)\n",
      "nb_sample for B:  202\n",
      "{1: 0.0, 2: 0.0, 4: 0.0, 5: 0.0, 6: 0.0, 36: 0.9702290845250444, 38: 0.9769033199763213, 40: 0.980087135283624, 42: 0.9828361736188603, 45: 0.98597336369478, 47: 0.988179656288021, 50: 0.9898567962676617, 52: 0.991121350494941, 55: 0.9921071612577618, 57: 0.9928962315553927, 60: 0.9935420025993725, 62: 0.9940801528431142, 65: 0.994535523880616, 67: 0.9949258429874808, 70: 0.9952641200394338, 72: 0.9955601125184529, 74: 0.9958212823636916, 76: 0.9960534333420926, 78: 0.9962611473763568, 80: 0.9964480900074699, 86: 0.9999999999999638, 101: 0.9999999999999812, 111: 0.999999999999986, 121: 0.9999999999999881, 132: 0.9999999999999893}\n"
     ]
    }
   ],
   "source": [
    "uniform_exclusion_param_list = [\"weibull\", \"to_A\", False, [1.0, 0.9, 15]]\n",
    "uniform_exclusion = evt_model(training_a_data_path=class_a_uniform_path,\n",
    "                                  training_b_data_path=class_b_uniform_dist_to_a_path,\n",
    "                                  test_data_path=test_sample_path,\n",
    "                                  tail_ratio=tail_size,\n",
    "                                  sampling=\"uniform\",\n",
    "                                  distribution=uniform_exclusion_param_list[0],\n",
    "                                  distance_choice=uniform_exclusion_param_list[1],\n",
    "                                  flip_distance=uniform_exclusion_param_list[2],\n",
    "                                  params=uniform_exclusion_param_list[3])\n",
    "evt_uniform_exclusion = {int(k): float(v) for k, v in uniform_exclusion.items()}\n",
    "\n",
    "print(evt_uniform_exclusion)"
   ]
  },
  {
   "cell_type": "code",
   "execution_count": 117,
   "id": "7540a6f0-51ad-400b-8bb7-3f6645ebc5d5",
   "metadata": {},
   "outputs": [
    {
     "name": "stdout",
     "output_type": "stream",
     "text": [
      "{1: 0.0, 2: 0.0, 4: 0.0, 5: 0.0, 6: 0.0, 36: 0.7252331000087491, 38: 0.7512190374951382, 40: 0.76739491050509, 42: 0.7804008727376673, 45: 0.7969003004733217, 47: 0.8118412691609815, 50: 0.8293865505735329, 52: 0.8445751083198998, 55: 0.8583105702873609, 57: 0.8693753618603254, 60: 0.8788909243114086, 62: 0.8872238879188874, 65: 0.8946204105949543, 67: 0.9014831923167851, 70: 0.9080213267470636, 72: 0.9137456693491474, 74: 0.918799253255931, 76: 0.9232934476227769, 78: 0.9273162600245627, 80: 0.930938156770109, 86: 0.9078415163105445, 101: 0.98392470130168, 111: 0.9893270557822613, 121: 0.9899062077940779}\n"
     ]
    }
   ],
   "source": [
    "uniform_final = evt_final_prob(inclusion_prob=uniform_inclusion,\n",
    "                              exclusion_prob=uniform_exclusion)\n",
    "print(uniform_final)"
   ]
  },
  {
   "cell_type": "markdown",
   "id": "07cc9f75-7cfa-4a6c-a0e8-3e079b466b5f",
   "metadata": {},
   "source": [
    "# Enriched tail"
   ]
  },
  {
   "cell_type": "code",
   "execution_count": 59,
   "id": "c34c382e-f1c2-455d-ab5b-6ce0aade0ccc",
   "metadata": {},
   "outputs": [
    {
     "name": "stdout",
     "output_type": "stream",
     "text": [
      "(405, 5)\n",
      "(405, 4)\n",
      "nb_sample for B:  202\n",
      "{1: 0.8709626097288367, 2: 0.8862664428927921, 4: 0.8898519606343259, 5: 0.880730811879022, 6: 0.8847514138556507, 36: 0.9233025204713625, 38: 0.933973291783221, 40: 0.9432270011284443, 42: 0.9489935359932418, 45: 0.9532758259957334, 47: 0.9574092074040613, 50: 0.9603932958078536, 52: 0.9627022550127906, 55: 0.9646288903635439, 57: 0.9663669609247434, 60: 0.9687367888922156, 62: 0.971342056484531, 65: 0.9735465136780286, 67: 0.9754360484153123, 70: 0.9770736451876247, 72: 0.9785065423633982, 74: 0.9797708634008454, 76: 0.9808947043230206, 78: 0.9819002462007564, 80: 0.9828052338907186, 84: 0.8941029535069042, 86: 0.9100433000393342, 87: 0.9056475145894594, 100: 0.9193952341936608}\n"
     ]
    }
   ],
   "source": [
    "enrich_inclusion_param_list = [\"reversed_weibull\", \"to_B\", True, [0.9, 1.0, 10]]\n",
    "enrich_inclusion = evt_model(training_a_data_path=class_a_uniform_path,\n",
    "                                  training_b_data_path=class_b_enrich_dist_to_b_path,\n",
    "                                  test_data_path=test_sample_path,\n",
    "                                  tail_ratio=tail_size,\n",
    "                                  sampling=\"enrich_tail\",\n",
    "                                  distribution=enrich_inclusion_param_list[0],\n",
    "                                  distance_choice=enrich_inclusion_param_list[1],\n",
    "                                  flip_distance=enrich_inclusion_param_list[2],\n",
    "                                  params=enrich_inclusion_param_list[3])\n",
    "evt_enrich_inclusion = {int(k): float(v) for k, v in enrich_inclusion.items()}\n",
    "\n",
    "print(evt_enrich_inclusion)"
   ]
  },
  {
   "cell_type": "code",
   "execution_count": 60,
   "id": "4fef5f1e-9267-445b-b62e-73bbd5e300f0",
   "metadata": {},
   "outputs": [
    {
     "name": "stdout",
     "output_type": "stream",
     "text": [
      "(405, 5)\n",
      "(405, 4)\n",
      "nb_sample for B:  202\n",
      "{1: 0.8709626097288367, 2: 0.8862664428927921, 4: 0.8898519606343259, 5: 0.880730811879022, 6: 0.8847514138556507, 36: 0.9233025204713625, 38: 0.933973291783221, 40: 0.9432270011284443, 42: 0.9489935359932418, 45: 0.9532758259957334, 47: 0.9574092074040613, 50: 0.9603932958078536, 52: 0.9627022550127906, 55: 0.9646288903635439, 57: 0.9663669609247434, 60: 0.9687367888922156, 62: 0.971342056484531, 65: 0.9735465136780286, 67: 0.9754360484153123, 70: 0.9770736451876247, 72: 0.9785065423633982, 74: 0.9797708634008454, 76: 0.9808947043230206, 78: 0.9819002462007564, 80: 0.9828052338907186, 84: 0.8941029535069042, 86: 0.9100433000393342, 87: 0.9056475145894594, 100: 0.9193952341936608}\n"
     ]
    }
   ],
   "source": [
    "enrich_exclusion_param_list = [\"weibull\", \"to_A\", False, [1.0, 0.9, 20]]\n",
    "enrich_exclusion = evt_model(training_a_data_path=class_a_uniform_path,\n",
    "                                  training_b_data_path=class_b_enrich_dist_to_a_path,\n",
    "                                  test_data_path=test_sample_path,\n",
    "                                  tail_ratio=tail_size,\n",
    "                                  sampling=\"enrich_tail\",\n",
    "                                  distribution=enrich_exclusion_param_list[0],\n",
    "                                  distance_choice=enrich_exclusion_param_list[1],\n",
    "                                  flip_distance=enrich_exclusion_param_list[2],\n",
    "                                  params=enrich_exclusion_param_list[3])\n",
    "evt_enrich_exclusion = {int(k): float(v) for k, v in enrich_inclusion.items()}\n",
    "\n",
    "print(evt_enrich_exclusion)"
   ]
  },
  {
   "cell_type": "code",
   "execution_count": 61,
   "id": "161b21d2-8d52-4ba8-9a44-f01f8246e448",
   "metadata": {},
   "outputs": [
    {
     "name": "stdout",
     "output_type": "stream",
     "text": [
      "{1: 0.0, 2: 0.0, 4: 0.0, 5: 0.0, 6: 0.0, 36: 0.7617743989779036, 38: 0.7918538366469414, 40: 0.8144831392599775, 42: 0.8346030394917047, 45: 0.8528200727257629, 47: 0.8692975165016342, 50: 0.882859686832007, 52: 0.8938639530721999, 55: 0.9031407069758327, 57: 0.9108744973788497, 60: 0.9181588444863915, 62: 0.9248501823987544, 65: 0.930533082349972, 67: 0.9354173289440106, 70: 0.9396601137075093, 72: 0.9433799134837307, 74: 0.9466677880899057, 76: 0.9495948271762304, 78: 0.952217333315976, 80: 0.9545804766836465, 84: 0.8941029534624934, 86: 0.9100433000081096, 87: 0.9056475145657917, 100: 0.9193952341738797}\n"
     ]
    }
   ],
   "source": [
    "enrich_final = evt_final_prob(inclusion_prob=enrich_inclusion,\n",
    "                              exclusion_prob=enrich_exclusion)\n",
    "print(enrich_final)"
   ]
  },
  {
   "cell_type": "markdown",
   "id": "c3cfba6e-5de4-4ca5-b248-e7dddafe1034",
   "metadata": {},
   "source": [
    "# Long tail"
   ]
  },
  {
   "cell_type": "code",
   "execution_count": 105,
   "id": "5def107a-7ab2-4232-9c3e-2bef27c0a5f6",
   "metadata": {},
   "outputs": [
    {
     "name": "stdout",
     "output_type": "stream",
     "text": [
      "(405, 5)\n",
      "(243, 4)\n",
      "nb_sample for B:  121\n",
      "{1: 0.9919821132813664, 2: 0.9921712984451473, 4: 0.992115151360469, 5: 0.9922658042003574, 6: 0.9921690338344128, 36: 0.9929333724034302, 38: 0.9929826992186039, 40: 0.9930658464050836, 42: 0.9934074509545768, 45: 0.9947259607636614, 47: 0.9956049673030511, 50: 0.996232829116901, 52: 0.9967037254772884, 55: 0.9970699782020341, 57: 0.9973629803818307, 60: 0.9976027094380279, 62: 0.9978024836515256, 65: 0.997971523370639, 67: 0.9981164145584505, 70: 0.9982419869212205, 72: 0.9983518627386442, 74: 0.9984488119893122, 76: 0.998534989101017, 78: 0.9986120949378057, 80: 0.9986814901909153, 140: 0.9505841311224744, 141: 0.9645864657298058, 142: 0.9546680872280551}\n"
     ]
    }
   ],
   "source": [
    "long_inclusion_param_list = [\"reversed_weibull\", \"to_B\", True, [0.1, 0.9, 1]]\n",
    "long_inclusion = evt_model(training_a_data_path=class_a_uniform_path,\n",
    "                          training_b_data_path=class_b_long_dist_to_b_path,\n",
    "                          test_data_path=test_sample_path,\n",
    "                          tail_ratio=0.5,\n",
    "                          sampling=\"long_tail\",\n",
    "                          distribution=long_inclusion_param_list[0],\n",
    "                          distance_choice=long_inclusion_param_list[1],\n",
    "                          flip_distance=long_inclusion_param_list[2],\n",
    "                          params=long_inclusion_param_list[3])\n",
    "evt_long_inclusion = {int(k): float(v) for k, v in long_inclusion.items()}\n",
    "\n",
    "print(evt_long_inclusion)"
   ]
  },
  {
   "cell_type": "code",
   "execution_count": 106,
   "id": "48e85abe-103a-495f-b716-f0f741a4820c",
   "metadata": {},
   "outputs": [
    {
     "name": "stdout",
     "output_type": "stream",
     "text": [
      "(405, 5)\n",
      "(243, 4)\n",
      "nb_sample for B:  121\n",
      "{1: 0.0, 2: 0.0, 4: 0.0, 5: 0.0, 6: 0.0, 36: 0.8250539580342573, 38: 0.8478334911858849, 40: 0.8635070224723825, 42: 0.87946124798225, 45: 0.894620475490354, 47: 0.9079686196654251, 50: 0.9192688981542424, 52: 0.9284947120647639, 55: 0.9362571616898827, 57: 0.942576199529016, 60: 0.9477897969956713, 62: 0.9521364551494461, 65: 0.955817795324896, 67: 0.958973507759616, 70: 0.9617085859756959, 72: 0.9641017945625323, 74: 0.9662134519942378, 76: 0.968090482078408, 78: 0.9697699302962477, 80: 0.9712814337634974, 140: 1.0, 141: 1.0, 142: 1.0}\n"
     ]
    }
   ],
   "source": [
    "long_exclusion_param_list = [\"weibull\", \"to_A\", False, [1.0, 0.9, 20]]\n",
    "long_exclusion = evt_model(training_a_data_path=class_a_uniform_path,\n",
    "                                  training_b_data_path=class_b_long_dist_to_a_path,\n",
    "                                  test_data_path=test_sample_path,\n",
    "                                  tail_ratio=tail_size,\n",
    "                                  sampling=\"long_tail\",\n",
    "                                  distribution=long_exclusion_param_list[0],\n",
    "                                  distance_choice=long_exclusion_param_list[1],\n",
    "                                  flip_distance=long_exclusion_param_list[2],\n",
    "                                  params=long_exclusion_param_list[3])\n",
    "evt_long_exclusion = {int(k): float(v) for k, v in long_exclusion.items()}\n",
    "\n",
    "print(evt_long_exclusion)"
   ]
  },
  {
   "cell_type": "code",
   "execution_count": 107,
   "id": "5cbc9e3a-5283-445f-9869-d88d7536ec35",
   "metadata": {},
   "outputs": [
    {
     "name": "stdout",
     "output_type": "stream",
     "text": [
      "{1: 0.0, 2: 0.0, 4: 0.0, 5: 0.0, 6: 0.0, 36: 0.8192236089657532, 38: 0.8418839885656925, 40: 0.85751933214827, 42: 0.873663356571378, 45: 0.889902212000986, 47: 0.903978067894192, 50: 0.9158058551273772, 52: 0.9254341386009123, 55: 0.9335139077976297, 57: 0.9400906075992385, 60: 0.9455176694606001, 62: 0.9500441197232767, 65: 0.953878941265152, 67: 0.9571671992215682, 70: 0.960017889703576, 72: 0.9625128224711738, 74: 0.9647146732717391, 76: 0.9666722189709614, 78: 0.9684239817008257, 80: 0.9700007896656985, 140: 0.9505841311224744, 141: 0.9645864657298058, 142: 0.9546680872280551}\n"
     ]
    }
   ],
   "source": [
    "long_final = evt_final_prob(inclusion_prob=long_inclusion,\n",
    "                            exclusion_prob=long_exclusion)\n",
    "print(long_final)"
   ]
  },
  {
   "cell_type": "code",
   "execution_count": 118,
   "id": "6f07f7db-f1f2-4283-a1b5-5efc48fd6ead",
   "metadata": {},
   "outputs": [],
   "source": [
    "def plot_evt_curve(evt_uniform,\n",
    "                   evt_enrich,\n",
    "                  evt_long):\n",
    "    \"\"\"\n",
    "\n",
    "    :param prob:\n",
    "    :return:\n",
    "    \"\"\"\n",
    "    from matplotlib.pyplot import figure\n",
    "\n",
    "    figure(figsize=(8, 6), dpi=80)\n",
    "    \n",
    "    # Gaussian probabilities\n",
    "    list_evt_uniform = sorted(evt_uniform.items())\n",
    "    x_evt_uniform, y_evt_uniform = zip(*list_evt_uniform)\n",
    "\n",
    "    list_evt_enrich = sorted(evt_enrich.items())\n",
    "    x_evt_enrich, y_evt_enrich = zip(*list_evt_enrich)\n",
    "    \n",
    "    list_evt_long = sorted(evt_long.items())\n",
    "    x_evt_long, y_evt_long = zip(*list_evt_long)\n",
    "\n",
    "\n",
    "    # Gaussian curves of testing range only\n",
    "    plt.plot(x_evt_uniform, y_evt_uniform, label=\"EVT Uniform\", color='red',)\n",
    "    plt.plot(x_evt_uniform, y_evt_enrich, label=\"EVT Enriched Tail\", color='red', linestyle='dotted',)\n",
    "    plt.plot(x_evt_long, y_evt_long, label=\"EVT Long Tail\", color='red', linestyle='dashed',)\n",
    "\n",
    "    # plt.plot(x_evt_uniform[5:25], y_evt_uniform[5:25], label=\"EVT Uniform\", color='red',)\n",
    "    # plt.plot(x_evt_uniform[5:25], y_evt_enrich[5:25], label=\"EVT Enriched Tail\", color='red', linestyle='dotted',)\n",
    "    # plt.plot(x_evt_uniform[5:25], y_evt_long[5:25], label=\"EVT Long Tail\", color='red', linestyle='dashed',)\n",
    "\n",
    "    plt.legend(loc=\"lower right\")"
   ]
  },
  {
   "cell_type": "code",
   "execution_count": 119,
   "id": "e9968568-7a2f-47c9-a33a-e75e28ea03a0",
   "metadata": {},
   "outputs": [
    {
     "data": {
      "image/png": "[encoded data removed]",
      "text/plain": [
       "<Figure size 640x480 with 1 Axes>"
      ]
     },
     "metadata": {},
     "output_type": "display_data"
    }
   ],
   "source": [
    "plot_evt_curve(evt_uniform=uniform_final,\n",
    "               evt_enrich=enrich_final,\n",
    "               evt_long=long_final)"
   ]
  },
  {
   "cell_type": "code",
   "execution_count": 112,
   "id": "a86f6901-1a2e-4533-95b3-cf362fb016da",
   "metadata": {},
   "outputs": [
    {
     "name": "stdout",
     "output_type": "stream",
     "text": [
      "28\n",
      "28\n",
      "28\n",
      "28\n"
     ]
    }
   ],
   "source": [
    "print(len(evt_long_inclusion))\n",
    "print(len(evt_long_exclusion))\n",
    "print(len(long_final))\n",
    "print(len(all_frames_long))"
   ]
  },
  {
   "cell_type": "code",
   "execution_count": null,
   "id": "58d10acd-2e0e-4f3e-8fbb-60e139edac40",
   "metadata": {},
   "outputs": [],
   "source": []
  }
 ],
 "metadata": {
  "kernelspec": {
   "display_name": "Python 3 (ipykernel)",
   "language": "python",
   "name": "python3"
  },
  "language_info": {
   "codemirror_mode": {
    "name": "ipython",
    "version": 3
   },
   "file_extension": ".py",
   "mimetype": "text/x-python",
   "name": "python",
   "nbconvert_exporter": "python",
   "pygments_lexer": "ipython3",
   "version": "3.9.21"
  }
 },
 "nbformat": 4,
 "nbformat_minor": 5
}
