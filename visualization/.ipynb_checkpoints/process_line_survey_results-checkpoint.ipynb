{
 "cells": [
  {
   "cell_type": "code",
   "execution_count": 88,
   "id": "3f1e245b",
   "metadata": {},
   "outputs": [],
   "source": [
    "import warnings\n",
    "warnings.filterwarnings('ignore')\n",
    "import csv\n",
    "import sqlite3\n",
    "import pandas as pd\n",
    "import numpy as np\n",
    "import seaborn as sn\n",
    "import matplotlib.pyplot as plt\n",
    "import sys\n",
    "import os\n",
    "import shutil\n",
    "import glob"
   ]
  },
  {
   "cell_type": "markdown",
   "id": "77b345e1",
   "metadata": {},
   "source": [
    "# Line segments 25 people (04/08/2025)"
   ]
  },
  {
   "cell_type": "markdown",
   "id": "7a808700",
   "metadata": {},
   "source": [
    "## 1. Path to data"
   ]
  },
  {
   "cell_type": "code",
   "execution_count": 89,
   "id": "6065b908",
   "metadata": {},
   "outputs": [],
   "source": [
    "database_path = \"/Users/jh5442/Desktop/jov_everything/line_segments/results_0408/memeTurkWork.db\"\n",
    "csv_save_dir = \"/Users/jh5442/Desktop/jov_everything/line_segments/results_0408/processed_csv.csv\""
   ]
  },
  {
   "cell_type": "markdown",
   "id": "09408469",
   "metadata": {},
   "source": [
    "## 2. Process db into csv"
   ]
  },
  {
   "cell_type": "code",
   "execution_count": 90,
   "id": "0fc759b6-2993-44ce-acf7-16e8a85229b7",
   "metadata": {},
   "outputs": [],
   "source": [
    "worker_id_list = [\"wtwytbaq\", \"jggmppkd\", \"urkphnas\", \"ohfucyhf\", \"hxvuvmes\",\n",
    "                  \"kvxziyur\", \"xelftgtr\", \"plyoscdt\", \"khazzxxa\", \"mzdzjwhe\",\n",
    "                  \"zticvqlb\", \"viumjoxp\", \"tfsjjqqy\", \"rezurosj\", \"aynwjmls\",\n",
    "                  \"ppkqoakt\", \"ajodofxp\", \"unijwnke\", \"yqbvflqb\", \"vzzwfcmq\",\n",
    "                  \"yykoihti\", \"ijhxlxyr\", \"xfsfczsj\", \"xdcdchfd\", \"wbomsenu\"]"
   ]
  },
  {
   "cell_type": "code",
   "execution_count": 91,
   "id": "24745803",
   "metadata": {},
   "outputs": [],
   "source": [
    "def convert_csv(db_path, output_file):\n",
    "    \"\"\"\n",
    "    Convert the user response from db into csv file\n",
    "\n",
    "    :param db_path: Database for user response\n",
    "\n",
    "    :return:\n",
    "    \"\"\"\n",
    "    conn = sqlite3.connect(db_path)\n",
    "    cursor = conn.cursor()\n",
    "    cursor.execute(\"select * from Responses;\")\n",
    "\n",
    "    with open(output_file, \"w\", newline='') as csv_file:\n",
    "        csv_writer = csv.writer(csv_file)\n",
    "\n",
    "        # write headers\n",
    "        csv_writer.writerow([i[0] for i in cursor.description])\n",
    "\n",
    "        # write content\n",
    "        csv_writer.writerows(cursor)"
   ]
  },
  {
   "cell_type": "code",
   "execution_count": 92,
   "id": "3ebbb35e",
   "metadata": {},
   "outputs": [],
   "source": [
    "convert_csv(database_path, csv_save_dir)"
   ]
  },
  {
   "cell_type": "markdown",
   "id": "9dd8c4b9",
   "metadata": {},
   "source": [
    "## Plot overall curve"
   ]
  },
  {
   "cell_type": "code",
   "execution_count": 93,
   "id": "0e47d847",
   "metadata": {},
   "outputs": [],
   "source": [
    "human_data = pd.read_csv(csv_save_dir)"
   ]
  },
  {
   "cell_type": "code",
   "execution_count": 94,
   "id": "ac0e80e9-611b-4846-9e53-9d528ea9bdd7",
   "metadata": {},
   "outputs": [
    {
     "data": {
      "text/plain": [
       "(725, 9)"
      ]
     },
     "execution_count": 94,
     "metadata": {},
     "output_type": "execute_result"
    }
   ],
   "source": [
    "human_data.shape"
   ]
  },
  {
   "cell_type": "code",
   "execution_count": 95,
   "id": "44f5b998",
   "metadata": {},
   "outputs": [],
   "source": [
    "def add_img_name_column(df):\n",
    "    \"\"\"\n",
    "    Add a row of test image names in original dataframe\n",
    "    \"\"\"\n",
    "    # find test img index\n",
    "    # Add a column for test img names\n",
    "    df['test_img_name'] = df.test_img.str. \\\n",
    "                            split('/').str[-1].str.split(\"_\").str[-1].str.split(\".\").str[0]\n",
    "\n",
    "    # Remove one invalid worker\n",
    "    df = df[df['AssignmentId'].isin(worker_id_list)]\n",
    "\n",
    "    # Only take the columns we need\n",
    "    df = df[[\"worker_response\", \"class_B_imgs\", \"test_img_name\"]]\n",
    "    df[\"test_img_name\"] = df[\"test_img_name\"].astype(int)\n",
    "    df = df.sort_values(by=[\"test_img_name\"])\n",
    "    \n",
    "    return df"
   ]
  },
  {
   "cell_type": "code",
   "execution_count": 96,
   "id": "9b367758",
   "metadata": {},
   "outputs": [],
   "source": [
    "human_results = add_img_name_column(human_data)"
   ]
  },
  {
   "cell_type": "code",
   "execution_count": 97,
   "id": "bca957f1-698a-44bb-a678-5066bbab5b0f",
   "metadata": {},
   "outputs": [],
   "source": [
    "def separate_three_exp(data):\n",
    "    \"\"\"\n",
    "    Separate uniform, enrich tail and long tail based on Class B\n",
    "    \"\"\"\n",
    "    \n",
    "    uniform_data = data[data[\"class_B_imgs\"].str.endswith(\"uniform.png\")]\n",
    "    long_tail_data = data[data[\"class_B_imgs\"].str.endswith(\"long.png\")]\n",
    "    enrich_data = data[data[\"class_B_imgs\"].str.endswith(\"enrich.png\")]\n",
    "\n",
    "    return uniform_data, long_tail_data, enrich_data"
   ]
  },
  {
   "cell_type": "code",
   "execution_count": 98,
   "id": "fa9b8aa9-1f64-4b4e-bcd7-dccbff64278e",
   "metadata": {},
   "outputs": [],
   "source": [
    "uniform_data, long_tail_data, enrich_data = separate_three_exp(human_results)\n",
    "\n",
    "uniform_results_path = \"/Users/jh5442/Desktop/jov_everything/line_segments/results_0408/uniform_result.csv\"\n",
    "long_tail_result_path = \"/Users/jh5442/Desktop/jov_everything/line_segments/results_0408/long_tail_result.csv\"\n",
    "enrich_result_path = \"/Users/jh5442/Desktop/jov_everything/line_segments/results_0408/enrich_result.csv\"\n",
    "\n",
    "uniform_data.to_csv(uniform_results_path)\n",
    "long_tail_data.to_csv(long_tail_result_path)\n",
    "enrich_data.to_csv(enrich_result_path)"
   ]
  },
  {
   "cell_type": "code",
   "execution_count": 99,
   "id": "62712ebd",
   "metadata": {},
   "outputs": [],
   "source": [
    "def generate_per_frame_response(response_csv_path):\n",
    "    data_final = pd.read_csv(response_csv_path)\n",
    "    \n",
    "    # Group by frame index: \n",
    "    # response: get counts\n",
    "    grouped = data_final.groupby(['test_img_name','worker_response']).worker_response. \\\n",
    "                            agg('count').to_frame('count').reset_index()\n",
    "    \n",
    "    # responses: get total counts\n",
    "    grouped_for_counts = grouped[['test_img_name','count']]\n",
    "    total_counts = grouped_for_counts.groupby(['test_img_name']).sum()\n",
    "    #print(total_counts)\n",
    "    \n",
    "    # responses: select the counts where worker response is 2\n",
    "    worker_response_selected = grouped[grouped['worker_response'] == 2]\n",
    "    worker_response_selected.columns = [\"test_img_name\", \"worker_response\", \"person_b_counts\"]\n",
    "    worker_response_selected = worker_response_selected[[\"test_img_name\", \"worker_response\", \"person_b_counts\"]]\n",
    "    \n",
    "    person_b_counts = worker_response_selected[[\"test_img_name\", \"person_b_counts\"]]\n",
    "    #print(worker_response_selected)\n",
    "    \n",
    "    # responses: merge two frames\n",
    "    result_df = pd.merge(total_counts, person_b_counts, on=\"test_img_name\")\n",
    "    # result_df = pd.merge(result_df, rt_frame, on=\"test_img_name\")\n",
    "    \n",
    "    # response: convert to probability of choosing person B as the answer\n",
    "    result_df[\"prob_b\"] = result_df[\"person_b_counts\"]/result_df[\"count\"]\n",
    "    \n",
    "    return result_df"
   ]
  },
  {
   "cell_type": "code",
   "execution_count": 100,
   "id": "0a1abd6b",
   "metadata": {},
   "outputs": [],
   "source": [
    "uniform_per_frame = generate_per_frame_response(uniform_results_path)\n",
    "enrich_per_frame = generate_per_frame_response(enrich_result_path)\n",
    "long_per_frame = generate_per_frame_response(long_tail_result_path)"
   ]
  },
  {
   "cell_type": "code",
   "execution_count": 101,
   "id": "4de3fbed-6aee-4d1b-8810-aa3bc35c070e",
   "metadata": {},
   "outputs": [
    {
     "data": {
      "text/html": [
       "<div>\n",
       "<style scoped>\n",
       "    .dataframe tbody tr th:only-of-type {\n",
       "        vertical-align: middle;\n",
       "    }\n",
       "\n",
       "    .dataframe tbody tr th {\n",
       "        vertical-align: top;\n",
       "    }\n",
       "\n",
       "    .dataframe thead th {\n",
       "        text-align: right;\n",
       "    }\n",
       "</style>\n",
       "<table border=\"1\" class=\"dataframe\">\n",
       "  <thead>\n",
       "    <tr style=\"text-align: right;\">\n",
       "      <th></th>\n",
       "      <th>test_img_name</th>\n",
       "      <th>count</th>\n",
       "      <th>person_b_counts</th>\n",
       "      <th>prob_b</th>\n",
       "    </tr>\n",
       "  </thead>\n",
       "  <tbody>\n",
       "    <tr>\n",
       "      <th>0</th>\n",
       "      <td>216</td>\n",
       "      <td>25</td>\n",
       "      <td>2</td>\n",
       "      <td>0.08</td>\n",
       "    </tr>\n",
       "    <tr>\n",
       "      <th>1</th>\n",
       "      <td>233</td>\n",
       "      <td>25</td>\n",
       "      <td>9</td>\n",
       "      <td>0.36</td>\n",
       "    </tr>\n",
       "    <tr>\n",
       "      <th>2</th>\n",
       "      <td>250</td>\n",
       "      <td>25</td>\n",
       "      <td>17</td>\n",
       "      <td>0.68</td>\n",
       "    </tr>\n",
       "    <tr>\n",
       "      <th>3</th>\n",
       "      <td>267</td>\n",
       "      <td>25</td>\n",
       "      <td>21</td>\n",
       "      <td>0.84</td>\n",
       "    </tr>\n",
       "    <tr>\n",
       "      <th>4</th>\n",
       "      <td>283</td>\n",
       "      <td>25</td>\n",
       "      <td>24</td>\n",
       "      <td>0.96</td>\n",
       "    </tr>\n",
       "  </tbody>\n",
       "</table>\n",
       "</div>"
      ],
      "text/plain": [
       "   test_img_name  count  person_b_counts  prob_b\n",
       "0            216     25                2    0.08\n",
       "1            233     25                9    0.36\n",
       "2            250     25               17    0.68\n",
       "3            267     25               21    0.84\n",
       "4            283     25               24    0.96"
      ]
     },
     "execution_count": 101,
     "metadata": {},
     "output_type": "execute_result"
    }
   ],
   "source": [
    "enrich_per_frame"
   ]
  },
  {
   "cell_type": "code",
   "execution_count": 102,
   "id": "1dfd4038",
   "metadata": {},
   "outputs": [],
   "source": [
    "def post_process_results(df):\n",
    "    \"\"\"\n",
    "    \"\"\"\n",
    "    \n",
    "    df = df[[\"test_img_name\", \"prob_b\"]]\n",
    "    df = df.set_index('test_img_name')\n",
    "    \n",
    "    return df"
   ]
  },
  {
   "cell_type": "code",
   "execution_count": 103,
   "id": "beacd467",
   "metadata": {},
   "outputs": [],
   "source": [
    "uniform_final = post_process_results(uniform_per_frame)\n",
    "enrich_final = post_process_results(enrich_per_frame)\n",
    "long_final = post_process_results(long_per_frame)"
   ]
  },
  {
   "cell_type": "code",
   "execution_count": 104,
   "id": "5323c0e8-060b-48aa-90f7-2d43ddf37508",
   "metadata": {},
   "outputs": [
    {
     "data": {
      "text/html": [
       "<div>\n",
       "<style scoped>\n",
       "    .dataframe tbody tr th:only-of-type {\n",
       "        vertical-align: middle;\n",
       "    }\n",
       "\n",
       "    .dataframe tbody tr th {\n",
       "        vertical-align: top;\n",
       "    }\n",
       "\n",
       "    .dataframe thead th {\n",
       "        text-align: right;\n",
       "    }\n",
       "</style>\n",
       "<table border=\"1\" class=\"dataframe\">\n",
       "  <thead>\n",
       "    <tr style=\"text-align: right;\">\n",
       "      <th></th>\n",
       "      <th>prob_b</th>\n",
       "    </tr>\n",
       "    <tr>\n",
       "      <th>test_img_name</th>\n",
       "      <th></th>\n",
       "    </tr>\n",
       "  </thead>\n",
       "  <tbody>\n",
       "    <tr>\n",
       "      <th>216</th>\n",
       "      <td>0.08</td>\n",
       "    </tr>\n",
       "    <tr>\n",
       "      <th>233</th>\n",
       "      <td>0.36</td>\n",
       "    </tr>\n",
       "    <tr>\n",
       "      <th>250</th>\n",
       "      <td>0.68</td>\n",
       "    </tr>\n",
       "    <tr>\n",
       "      <th>267</th>\n",
       "      <td>0.84</td>\n",
       "    </tr>\n",
       "    <tr>\n",
       "      <th>283</th>\n",
       "      <td>0.96</td>\n",
       "    </tr>\n",
       "  </tbody>\n",
       "</table>\n",
       "</div>"
      ],
      "text/plain": [
       "               prob_b\n",
       "test_img_name        \n",
       "216              0.08\n",
       "233              0.36\n",
       "250              0.68\n",
       "267              0.84\n",
       "283              0.96"
      ]
     },
     "execution_count": 104,
     "metadata": {},
     "output_type": "execute_result"
    }
   ],
   "source": [
    "enrich_final"
   ]
  },
  {
   "cell_type": "code",
   "execution_count": 105,
   "id": "b72e7fab",
   "metadata": {},
   "outputs": [],
   "source": [
    "uniform_final.columns = [\"uniform\"]\n",
    "enrich_final.columns = [\"enrich\"]\n",
    "long_final.columns = [\"long\"]\n",
    "\n",
    "all_data = uniform_final.join(enrich_final).join(long_final)"
   ]
  },
  {
   "cell_type": "code",
   "execution_count": 106,
   "id": "30bbd3e1",
   "metadata": {},
   "outputs": [],
   "source": [
    "final_data = all_data.fillna(0)"
   ]
  },
  {
   "cell_type": "code",
   "execution_count": 107,
   "id": "dd14740b-faa0-4539-9ec4-3b2c3b621d09",
   "metadata": {},
   "outputs": [
    {
     "data": {
      "text/html": [
       "<div>\n",
       "<style scoped>\n",
       "    .dataframe tbody tr th:only-of-type {\n",
       "        vertical-align: middle;\n",
       "    }\n",
       "\n",
       "    .dataframe tbody tr th {\n",
       "        vertical-align: top;\n",
       "    }\n",
       "\n",
       "    .dataframe thead th {\n",
       "        text-align: right;\n",
       "    }\n",
       "</style>\n",
       "<table border=\"1\" class=\"dataframe\">\n",
       "  <thead>\n",
       "    <tr style=\"text-align: right;\">\n",
       "      <th></th>\n",
       "      <th>uniform</th>\n",
       "      <th>enrich</th>\n",
       "      <th>long</th>\n",
       "    </tr>\n",
       "    <tr>\n",
       "      <th>test_img_name</th>\n",
       "      <th></th>\n",
       "      <th></th>\n",
       "      <th></th>\n",
       "    </tr>\n",
       "  </thead>\n",
       "  <tbody>\n",
       "    <tr>\n",
       "      <th>167</th>\n",
       "      <td>0.08</td>\n",
       "      <td>0.00</td>\n",
       "      <td>0.04</td>\n",
       "    </tr>\n",
       "    <tr>\n",
       "      <th>183</th>\n",
       "      <td>0.04</td>\n",
       "      <td>0.00</td>\n",
       "      <td>0.00</td>\n",
       "    </tr>\n",
       "    <tr>\n",
       "      <th>200</th>\n",
       "      <td>0.04</td>\n",
       "      <td>0.00</td>\n",
       "      <td>0.00</td>\n",
       "    </tr>\n",
       "    <tr>\n",
       "      <th>216</th>\n",
       "      <td>0.20</td>\n",
       "      <td>0.08</td>\n",
       "      <td>0.00</td>\n",
       "    </tr>\n",
       "    <tr>\n",
       "      <th>233</th>\n",
       "      <td>0.52</td>\n",
       "      <td>0.36</td>\n",
       "      <td>0.08</td>\n",
       "    </tr>\n",
       "    <tr>\n",
       "      <th>250</th>\n",
       "      <td>0.72</td>\n",
       "      <td>0.68</td>\n",
       "      <td>0.12</td>\n",
       "    </tr>\n",
       "    <tr>\n",
       "      <th>267</th>\n",
       "      <td>0.84</td>\n",
       "      <td>0.84</td>\n",
       "      <td>0.16</td>\n",
       "    </tr>\n",
       "    <tr>\n",
       "      <th>283</th>\n",
       "      <td>0.96</td>\n",
       "      <td>0.96</td>\n",
       "      <td>0.16</td>\n",
       "    </tr>\n",
       "  </tbody>\n",
       "</table>\n",
       "</div>"
      ],
      "text/plain": [
       "               uniform  enrich  long\n",
       "test_img_name                       \n",
       "167               0.08    0.00  0.04\n",
       "183               0.04    0.00  0.00\n",
       "200               0.04    0.00  0.00\n",
       "216               0.20    0.08  0.00\n",
       "233               0.52    0.36  0.08\n",
       "250               0.72    0.68  0.12\n",
       "267               0.84    0.84  0.16\n",
       "283               0.96    0.96  0.16"
      ]
     },
     "execution_count": 107,
     "metadata": {},
     "output_type": "execute_result"
    }
   ],
   "source": [
    "final_data"
   ]
  },
  {
   "cell_type": "code",
   "execution_count": 108,
   "id": "c3f3f040",
   "metadata": {},
   "outputs": [
    {
     "data": {
      "text/plain": [
       "<Axes: xlabel='test_img_name'>"
      ]
     },
     "execution_count": 108,
     "metadata": {},
     "output_type": "execute_result"
    },
    {
     "data": {
      "image/png": "[encoded data removed]",
      "text/plain": [
       "<Figure size 640x480 with 1 Axes>"
      ]
     },
     "metadata": {},
     "output_type": "display_data"
    }
   ],
   "source": [
    "final_data.plot()"
   ]
  },
  {
   "cell_type": "code",
   "execution_count": null,
   "id": "edd867ee-a883-4730-a4ac-6ce9b4289dc1",
   "metadata": {},
   "outputs": [],
   "source": []
  }
 ],
 "metadata": {
  "kernelspec": {
   "display_name": "Python 3 (ipykernel)",
   "language": "python",
   "name": "python3"
  },
  "language_info": {
   "codemirror_mode": {
    "name": "ipython",
    "version": 3
   },
   "file_extension": ".py",
   "mimetype": "text/x-python",
   "name": "python",
   "nbconvert_exporter": "python",
   "pygments_lexer": "ipython3",
   "version": "3.9.21"
  }
 },
 "nbformat": 4,
 "nbformat_minor": 5
}
