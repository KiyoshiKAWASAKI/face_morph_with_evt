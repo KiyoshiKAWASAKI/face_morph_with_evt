{
 "cells": [
  {
   "cell_type": "code",
   "execution_count": 1,
   "id": "5acd3abe",
   "metadata": {},
   "outputs": [],
   "source": [
    "import csv\n",
    "import pandas as pd\n",
    "import matplotlib.pyplot as plt\n",
    "import numpy as np\n",
    "import sys, os"
   ]
  },
  {
   "cell_type": "code",
   "execution_count": 2,
   "id": "634c8717",
   "metadata": {},
   "outputs": [],
   "source": [
    "all_dist_file_dir = \"/Users/jh5442/Desktop/jov_everything/face_morph_v4_5_sets_dist/\"\n",
    "\n",
    "frame_A = [1, 2, 4, 5, 6]\n",
    "uniform_B = [86, 101, 111, 121, 132]\n",
    "enriched_B = [84, 86, 87, 100, 142]\n",
    "test = [36, 38, 40, 42, 45,\n",
    "      47, 50, 52, 55, 57,\n",
    "      60, 62, 65, 67, 70,\n",
    "      72, 74, 76, 78, 80]"
   ]
  },
  {
   "cell_type": "code",
   "execution_count": 12,
   "id": "951beb23",
   "metadata": {},
   "outputs": [],
   "source": [
    "def plot_hist(distance_file_path,\n",
    "             save_dir,\n",
    "             index_A,\n",
    "             index_B,\n",
    "             index_test):\n",
    "    \"\"\"\n",
    "    \"\"\"    \n",
    "    # Load distance CSV file\n",
    "    data = pd.read_csv(distance_file_path)\n",
    "    data.columns = ['ind', 'morph_name', 'frame', 'dist_to_A', 'dist_to_B']\n",
    "    data = data.drop('ind', axis=1)\n",
    "    data = data.drop(\"morph_name\", axis=1)\n",
    "    \n",
    "    # Find data frames for training A, training B and testing\n",
    "    training_A_df = data.loc[data['frame'].isin(index_A)].set_index('frame')\n",
    "    training_B_df = data.loc[data['frame'].isin(index_B)].set_index('frame')\n",
    "    test_df = data.loc[data['frame'].isin(index_test)].set_index('frame')\n",
    "    \n",
    "    # Plot data\n",
    "    nb_training = training_A_df.shape[0]\n",
    "    nb_testing = test_df.shape[0]\n",
    "    \n",
    "    # Plot histograms to see the data distribution\n",
    "    title_fontsize = 18\n",
    "    label_fontsize = 16\n",
    "    text_fontsize = 16\n",
    "\n",
    "    fig, ax = plt.subplots(nrows=3, ncols=1, figsize=(8, 12), sharey=True, sharex=True)\n",
    "\n",
    "    ax[0].hist(training_A_df['dist_to_A'], bins=20, label=\"training_A\", width=0.8)\n",
    "    ax[0].set_title('Distance Value Counts in Category A Training Data', fontsize=title_fontsize)\n",
    "    ax[0].set_xlabel(\"Euclidean Distance value\", fontsize=label_fontsize)\n",
    "    ax[0].set_ylabel(\"Number of Data Points\", fontsize=label_fontsize)\n",
    "    ax[0].tick_params(axis='both', labelsize=14)\n",
    "    \n",
    "    ax[1].hist(training_B_df['dist_to_A'], bins=20,label=\"training_B\", width=0.8)\n",
    "    ax[1].set_title('Distance Value Counts in Category B Training Data', fontsize=title_fontsize)\n",
    "    ax[1].set_xlabel(\"Euclidean Distance value\", fontsize=label_fontsize)\n",
    "    ax[1].set_ylabel(\"Number of Data Points\", fontsize=label_fontsize)\n",
    "    ax[1].tick_params(axis='both', labelsize=14)\n",
    "\n",
    "    ax[2].hist(test_df['dist_to_A'], bins=20, label=\"test\", width=0.8)\n",
    "    ax[2].set_title('Distance Value Counts in Testing Data', fontsize=title_fontsize)\n",
    "    ax[2].set_xlabel(\"Euclidean Distance value\", fontsize=label_fontsize)\n",
    "    ax[2].set_ylabel(\"Number of Data Points\", fontsize=label_fontsize)\n",
    "    ax[2].tick_params(axis='both', labelsize=14)\n",
    "\n",
    "\n",
    "    fig.tight_layout()\n",
    "\n",
    "    save_hist_path = save_dir + \"/\" + distance_file_path.split(\"/\")[-1].split(\"/\")[0] + \"_hist.png\"\n",
    "    plt.savefig(save_hist_path)\n",
    "    plt.clf()"
   ]
  },
  {
   "cell_type": "code",
   "execution_count": 13,
   "id": "9d0585cf",
   "metadata": {},
   "outputs": [
    {
     "name": "stdout",
     "output_type": "stream",
     "text": [
      "Current file:  /Users/jh5442/Desktop/jov_everything/face_morph_v4_5_sets_dist/facenet_uniform.csv\n",
      "Model and config:  facenet_uniform.csv\n",
      "Current file:  /Users/jh5442/Desktop/jov_everything/face_morph_v4_5_sets_dist/facenet_enriched_tail.csv\n",
      "Model and config:  facenet_enriched_tail.csv\n",
      "Current file:  /Users/jh5442/Desktop/jov_everything/face_morph_v4_5_sets_dist/deepface_uniform.csv\n",
      "Model and config:  deepface_uniform.csv\n",
      "Current file:  /Users/jh5442/Desktop/jov_everything/face_morph_v4_5_sets_dist/vgg_vgg16_enriched_tail.csv\n",
      "Model and config:  vgg_vgg16_enriched_tail.csv\n",
      "Current file:  /Users/jh5442/Desktop/jov_everything/face_morph_v4_5_sets_dist/vgg_senet_enriched_tail.csv\n",
      "Model and config:  vgg_senet_enriched_tail.csv\n",
      "Current file:  /Users/jh5442/Desktop/jov_everything/face_morph_v4_5_sets_dist/vgg_senet_uniform.csv\n",
      "Model and config:  vgg_senet_uniform.csv\n",
      "Current file:  /Users/jh5442/Desktop/jov_everything/face_morph_v4_5_sets_dist/vgg_resnet_uniform.csv\n",
      "Model and config:  vgg_resnet_uniform.csv\n",
      "Current file:  /Users/jh5442/Desktop/jov_everything/face_morph_v4_5_sets_dist/deepface_enriched_tail.csv\n",
      "Model and config:  deepface_enriched_tail.csv\n",
      "Current file:  /Users/jh5442/Desktop/jov_everything/face_morph_v4_5_sets_dist/vgg_resnet_long_tail.csv\n",
      "Model and config:  vgg_resnet_long_tail.csv\n",
      "Current file:  /Users/jh5442/Desktop/jov_everything/face_morph_v4_5_sets_dist/vgg_vgg16_uniform.csv\n",
      "Model and config:  vgg_vgg16_uniform.csv\n",
      "Current file:  /Users/jh5442/Desktop/jov_everything/face_morph_v4_5_sets_dist/vgg_resnet_enriched_tail.csv\n",
      "Model and config:  vgg_resnet_enriched_tail.csv\n"
     ]
    },
    {
     "data": {
      "text/plain": [
       "<Figure size 800x1200 with 0 Axes>"
      ]
     },
     "metadata": {},
     "output_type": "display_data"
    },
    {
     "data": {
      "text/plain": [
       "<Figure size 800x1200 with 0 Axes>"
      ]
     },
     "metadata": {},
     "output_type": "display_data"
    },
    {
     "data": {
      "text/plain": [
       "<Figure size 800x1200 with 0 Axes>"
      ]
     },
     "metadata": {},
     "output_type": "display_data"
    },
    {
     "data": {
      "text/plain": [
       "<Figure size 800x1200 with 0 Axes>"
      ]
     },
     "metadata": {},
     "output_type": "display_data"
    },
    {
     "data": {
      "text/plain": [
       "<Figure size 800x1200 with 0 Axes>"
      ]
     },
     "metadata": {},
     "output_type": "display_data"
    },
    {
     "data": {
      "text/plain": [
       "<Figure size 800x1200 with 0 Axes>"
      ]
     },
     "metadata": {},
     "output_type": "display_data"
    },
    {
     "data": {
      "text/plain": [
       "<Figure size 800x1200 with 0 Axes>"
      ]
     },
     "metadata": {},
     "output_type": "display_data"
    },
    {
     "data": {
      "text/plain": [
       "<Figure size 800x1200 with 0 Axes>"
      ]
     },
     "metadata": {},
     "output_type": "display_data"
    },
    {
     "data": {
      "text/plain": [
       "<Figure size 800x1200 with 0 Axes>"
      ]
     },
     "metadata": {},
     "output_type": "display_data"
    },
    {
     "data": {
      "text/plain": [
       "<Figure size 800x1200 with 0 Axes>"
      ]
     },
     "metadata": {},
     "output_type": "display_data"
    },
    {
     "data": {
      "text/plain": [
       "<Figure size 800x1200 with 0 Axes>"
      ]
     },
     "metadata": {},
     "output_type": "display_data"
    }
   ],
   "source": [
    "all_dist_files = os.listdir(all_dist_file_dir)\n",
    "\n",
    "for one_file in all_dist_files:\n",
    "    if one_file.endswith(\".csv\"):\n",
    "        print(\"Current file: \",os.path.join(all_dist_file_dir, one_file))\n",
    "        print(\"Model and config: \", one_file)\n",
    "\n",
    "        # check whether this file is for uniform or enriched tail\n",
    "        if one_file.split(\".\")[0].split(\"_\")[-1] == \"uniform\":\n",
    "            train_B = uniform_B\n",
    "        else:\n",
    "            train_B = enriched_B\n",
    "\n",
    "        plot_hist(distance_file_path=os.path.join(all_dist_file_dir, one_file),\n",
    "                  save_dir=all_dist_file_dir,\n",
    "                  index_A=frame_A,\n",
    "                  index_B=train_B,\n",
    "                  index_test=test)\n",
    "    else:\n",
    "        continue"
   ]
  },
  {
   "cell_type": "code",
   "execution_count": null,
   "id": "3e7f326d",
   "metadata": {},
   "outputs": [],
   "source": []
  }
 ],
 "metadata": {
  "kernelspec": {
   "display_name": "Python 3 (ipykernel)",
   "language": "python",
   "name": "python3"
  },
  "language_info": {
   "codemirror_mode": {
    "name": "ipython",
    "version": 3
   },
   "file_extension": ".py",
   "mimetype": "text/x-python",
   "name": "python",
   "nbconvert_exporter": "python",
   "pygments_lexer": "ipython3",
   "version": "3.9.21"
  }
 },
 "nbformat": 4,
 "nbformat_minor": 5
}
