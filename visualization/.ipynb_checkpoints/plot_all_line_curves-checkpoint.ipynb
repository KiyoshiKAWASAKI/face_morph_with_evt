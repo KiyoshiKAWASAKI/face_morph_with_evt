{
 "cells": [
  {
   "cell_type": "code",
   "execution_count": 1,
   "id": "a2ee3aa4-30e0-4cfe-a956-fc4743e9facb",
   "metadata": {},
   "outputs": [],
   "source": [
    "import os\n",
    "import numpy as np\n",
    "import matplotlib.pyplot as plt\n",
    "import pandas as pd\n",
    "from math import sqrt, exp, pi\n",
    "from sklearn.naive_bayes import GaussianNB\n",
    "from scipy.stats import weibull_min, weibull_max, genextreme\n",
    "import itertools\n",
    "import warnings\n",
    "warnings.filterwarnings('ignore')"
   ]
  },
  {
   "cell_type": "code",
   "execution_count": 2,
   "id": "910fbf23-e335-496e-9d22-18681f0711e5",
   "metadata": {},
   "outputs": [],
   "source": [
    "nb_training = 5\n",
    "\n",
    "all_frames_uniform = [110, 120, 130, 140, 150, 167, 183, 200, 216, 233, 250, 267, 283, 300, 375, 450, 525, 600]\n",
    "all_frames_enriched = [110, 120, 130, 140, 150, 167, 183, 200, 216, 233, 250, 267, 283, 300, 325, 350, 575, 600]\n",
    "all_frames_long = [110, 120, 130, 140, 150, 167, 183, 200, 216, 233, 250, 267, 283, 560, 570, 580, 590, 600]\n",
    "\n",
    "human_test_ind = [167, 183, 200, 216, 233, 250, 267, 283]\n",
    "\n",
    "human_uniform_prob = [0.08, 0.04, 0.04, 0.20, 0.52, 0.72, 0.84, 0.96]\n",
    "human_enrich_prob = [0.00, 0.00, 0.00, 0.08, 0.36, 0.68, 0.84, 0.96]\n",
    "human_long_prob = [0.04, 0.00, 0.00, 0.00, 0.08, 0.12, 0.16, 0.12]"
   ]
  },
  {
   "cell_type": "code",
   "execution_count": 3,
   "id": "01cebe78-2dfe-4d98-a8db-936e0638a95f",
   "metadata": {},
   "outputs": [],
   "source": [
    "gauss_uniform = [0.0027720841614063867, 0.0027720841614063867, 0.0027720841614063867, 0.0027720841614063867, \n",
    "                 0.0027720841614063867, 0.8708035460878506, 0.8708035460878506, 0.8708035460878506, \n",
    "                 0.8708035460878506, 0.8708035460878506, 0.8708035460878506, 0.8708035460878506, \n",
    "                 0.8708035460878506, 1.0, 1.0, 1.0, 1.0, 1.0]\n",
    "\n",
    "gauss_enrich = [[0.013798629156590348, 0.013798629156590348, 0.013798629156590348, 0.013798629156590348, \n",
    "                 0.013798629156590348, 0.9065292357868826, 0.9065292357868826, 0.9065292357868826, 0.9065292357868826, \n",
    "                 0.9065292357868826, 0.9065292357868826, 0.9065292357868826, 0.9065292357868826, 1.0, 1.0, 1.0, 1.0, 1.0]]\n",
    "\n",
    "gauss_long = [[9.610613759140519e-202, 9.610613759140519e-202, 9.610613759140519e-202, 9.610613759140519e-202, \n",
    "               9.610613759140519e-202, 5.510891033341052e-72, 5.510891033341052e-72, 5.510891033341052e-72, \n",
    "               5.510891033341052e-72, 5.510891033341052e-72, 5.510891033341052e-72, 5.510891033341052e-72, \n",
    "               5.510891033341052e-72, 1.0, 1.0, 1.0, 1.0, 1.0]]"
   ]
  },
  {
   "cell_type": "code",
   "execution_count": null,
   "id": "0e13a767-5f26-4b7f-a234-9af23366aadf",
   "metadata": {},
   "outputs": [],
   "source": []
  }
 ],
 "metadata": {
  "kernelspec": {
   "display_name": "Python 3 (ipykernel)",
   "language": "python",
   "name": "python3"
  },
  "language_info": {
   "codemirror_mode": {
    "name": "ipython",
    "version": 3
   },
   "file_extension": ".py",
   "mimetype": "text/x-python",
   "name": "python",
   "nbconvert_exporter": "python",
   "pygments_lexer": "ipython3",
   "version": "3.9.21"
  }
 },
 "nbformat": 4,
 "nbformat_minor": 5
}
